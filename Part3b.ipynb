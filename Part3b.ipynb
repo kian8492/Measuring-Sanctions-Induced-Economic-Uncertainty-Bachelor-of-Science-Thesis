{
 "cells": [
  {
   "cell_type": "code",
   "execution_count": 1,
   "metadata": {},
   "outputs": [],
   "source": [
    "import pandas as pd\n",
    "from sklearn.linear_model import LinearRegression\n",
    "from sklearn.model_selection import train_test_split\n",
    "from sklearn.preprocessing import PolynomialFeatures as pf\n",
    "from sklearn import svm\n",
    "from sklearn.preprocessing import MinMaxScaler as mms\n",
    "import pandas as pd\n",
    "from sklearn.linear_model import LinearRegression\n",
    "from skforecast.ForecasterAutoreg import ForecasterAutoreg\n",
    "from skforecast.ForecasterAutoregCustom import ForecasterAutoregCustom\n",
    "from skforecast.ForecasterAutoregDirect import ForecasterAutoregDirect\n",
    "import numpy as np\n",
    "from sklearn.metrics import mean_squared_error\n",
    "from sklearn.metrics import mean_absolute_error\n",
    "from skforecast.model_selection import grid_search_forecaster\n",
    "from datetime import datetime\n",
    "from arch import arch_model\n",
    "import warnings\n",
    "warnings.filterwarnings('ignore')\n",
    "import statsmodels.api as sm"
   ]
  },
  {
   "cell_type": "code",
   "execution_count": 2,
   "metadata": {},
   "outputs": [
    {
     "data": {
      "text/html": [
       "<div>\n",
       "<style scoped>\n",
       "    .dataframe tbody tr th:only-of-type {\n",
       "        vertical-align: middle;\n",
       "    }\n",
       "\n",
       "    .dataframe tbody tr th {\n",
       "        vertical-align: top;\n",
       "    }\n",
       "\n",
       "    .dataframe thead th {\n",
       "        text-align: right;\n",
       "    }\n",
       "</style>\n",
       "<table border=\"1\" class=\"dataframe\">\n",
       "  <thead>\n",
       "    <tr style=\"text-align: right;\">\n",
       "      <th></th>\n",
       "      <th>id</th>\n",
       "      <th>uri</th>\n",
       "      <th>pubdate</th>\n",
       "      <th>title</th>\n",
       "      <th>summary</th>\n",
       "      <th>text</th>\n",
       "      <th>eu</th>\n",
       "      <th>seu</th>\n",
       "    </tr>\n",
       "  </thead>\n",
       "  <tbody>\n",
       "    <tr>\n",
       "      <th>0</th>\n",
       "      <td>b9317aba-38de-4f0c-a4b1-4c3b278a714b</td>\n",
       "      <td>https://donya-e-eqtesad.com/بخش-%D8%AE%D8%A8%D...</td>\n",
       "      <td>2023-06-21T20:30:00+00:00</td>\n",
       "      <td>تنها برجام در دستورکار نیست</td>\n",
       "      <td>دنیای‌اقتصاد :ابراهیم رئیسی، رئیس‌جمهوری سه‌شن...</td>\n",
       "      <td>ابراهیم رئیسی، رئیس‌جمهوری سه‌شنبه‌شب در دومین...</td>\n",
       "      <td>1</td>\n",
       "      <td>1</td>\n",
       "    </tr>\n",
       "    <tr>\n",
       "      <th>1</th>\n",
       "      <td>e4b22b41-4e74-452b-a8a0-5aaedb3a0778</td>\n",
       "      <td>https://donya-e-eqtesad.com/بخش-%D8%AF%D9%86%D...</td>\n",
       "      <td>2023-06-21T20:30:00+00:00</td>\n",
       "      <td>جولان عزرائیل در میان فقرای آمریکایی</td>\n",
       "      <td>دنیای‌اقتصاد :کارشناسان می‌گویند که آمریکا از ...</td>\n",
       "      <td>تحقیقات دانشگاه کالیفرنیا، ریورساید که اوایل س...</td>\n",
       "      <td>1</td>\n",
       "      <td>0</td>\n",
       "    </tr>\n",
       "    <tr>\n",
       "      <th>2</th>\n",
       "      <td>0bfac253-4768-4c74-86ef-fa929ed753c3</td>\n",
       "      <td>https://donya-e-eqtesad.com/بخش-%D8%B3%D8%B1%D...</td>\n",
       "      <td>2023-06-21T20:30:00+00:00</td>\n",
       "      <td>همت آغازین تامین مالی جمعی</td>\n",
       "      <td>میلاد خوش‌زبان*یکی از بزرگ‌ترین چالش‌های شرکت‌...</td>\n",
       "      <td>برای پاسخ به این نیاز، تامین مالی جمعی (crowdf...</td>\n",
       "      <td>1</td>\n",
       "      <td>0</td>\n",
       "    </tr>\n",
       "    <tr>\n",
       "      <th>3</th>\n",
       "      <td>1fd90c33-f171-4ce3-85f0-015ab242927d</td>\n",
       "      <td>https://donya-e-eqtesad.com/بخش-%D9%85%D8%B3%D...</td>\n",
       "      <td>2023-06-21T20:30:00+00:00</td>\n",
       "      <td>قد و وزن وام جدید مسکن</td>\n",
       "      <td>دنیای‌اقتصاد - نجمه رجب :سقف وام خرید مسکن در ...</td>\n",
       "      <td>به گزارش «دنیای‌اقتصاد»، وام مسکن از محل خرید ...</td>\n",
       "      <td>1</td>\n",
       "      <td>0</td>\n",
       "    </tr>\n",
       "    <tr>\n",
       "      <th>4</th>\n",
       "      <td>141d9785-9030-4a02-9f8e-1a4b6190fa6b</td>\n",
       "      <td>https://donya-e-eqtesad.com/بخش-%D9%85%D8%B3%D...</td>\n",
       "      <td>2023-06-21T20:30:00+00:00</td>\n",
       "      <td>زمین هست، خانه نیست</td>\n",
       "      <td>دنیای‌اقتصاد: تازه‌‌‌ترین گزارش وزارت راه وشهر...</td>\n",
       "      <td>در این گزارش در حالی از رسیدن ۱۸۱‌هزار و ۷۰۱ و...</td>\n",
       "      <td>1</td>\n",
       "      <td>0</td>\n",
       "    </tr>\n",
       "    <tr>\n",
       "      <th>...</th>\n",
       "      <td>...</td>\n",
       "      <td>...</td>\n",
       "      <td>...</td>\n",
       "      <td>...</td>\n",
       "      <td>...</td>\n",
       "      <td>...</td>\n",
       "      <td>...</td>\n",
       "      <td>...</td>\n",
       "    </tr>\n",
       "    <tr>\n",
       "      <th>26118</th>\n",
       "      <td>a0cd627f-2443-4e4e-8d16-b609e3aa9ab6</td>\n",
       "      <td>https://donya-e-eqtesad.com/بخش-%D8%B3%D8%B1%D...</td>\n",
       "      <td>2006-08-03T07:30:00+00:00</td>\n",
       "      <td>بن‌بست اپراتور دوم</td>\n",
       "      <td>شهرام شریف بخش فناوری اطلاعات و ارتباطات در کش...</td>\n",
       "      <td>شهرام شریفبخش فناوری اطلاعات و ارتباطات در کشو...</td>\n",
       "      <td>0</td>\n",
       "      <td>0</td>\n",
       "    </tr>\n",
       "    <tr>\n",
       "      <th>26119</th>\n",
       "      <td>f56418cc-08e3-4731-9fa1-82173e6cc401</td>\n",
       "      <td>https://donya-e-eqtesad.com/بخش-%D8%B3%D8%B1%D...</td>\n",
       "      <td>2006-08-02T07:30:00+00:00</td>\n",
       "      <td>اقتصاد کاسترو</td>\n",
       "      <td>محمود صدریمقا‌م‌های کوبایی گفته‌اند انتقال قدر...</td>\n",
       "      <td>محمود صدریمقا‌م‌های کوبایی گفته‌اند انتقال قدر...</td>\n",
       "      <td>1</td>\n",
       "      <td>0</td>\n",
       "    </tr>\n",
       "    <tr>\n",
       "      <th>26120</th>\n",
       "      <td>adc333e0-d687-44ff-be65-b0ba624e337a</td>\n",
       "      <td>https://donya-e-eqtesad.com/بخش-%D8%B3%D8%B1%D...</td>\n",
       "      <td>2006-08-01T07:30:00+00:00</td>\n",
       "      <td>خوابی کوتاه برای نقدینگی</td>\n",
       "      <td>پویا جبل‌عاملیشکاف بین رشد نقدینگی و نرخ تورم ...</td>\n",
       "      <td>پویا جبل‌عاملیشکاف بین رشد نقدینگی و نرخ تورم ...</td>\n",
       "      <td>1</td>\n",
       "      <td>0</td>\n",
       "    </tr>\n",
       "    <tr>\n",
       "      <th>26121</th>\n",
       "      <td>3e04d69c-65b9-4493-bbdd-d23d8e3f5f4a</td>\n",
       "      <td>https://donya-e-eqtesad.com/بخش-%D8%B3%D8%B1%D...</td>\n",
       "      <td>2006-07-31T07:30:00+00:00</td>\n",
       "      <td>اصلاح ساختار اقتصادی از شعار تا واقعیت</td>\n",
       "      <td>امروزه شاید کسی مخالف این ادعا نباشد که اقتصاد...</td>\n",
       "      <td>امروزه شاید کسی مخالف این ادعا نباشد که اقتصاد...</td>\n",
       "      <td>1</td>\n",
       "      <td>0</td>\n",
       "    </tr>\n",
       "    <tr>\n",
       "      <th>26122</th>\n",
       "      <td>7d05adeb-8307-400e-99eb-b3e3d0b6d3b3</td>\n",
       "      <td>https://donya-e-eqtesad.com/بخش-%D8%B3%D8%B1%D...</td>\n",
       "      <td>2006-07-31T07:30:00+00:00</td>\n",
       "      <td>درخواست متمم بودجه یک‌میلیارد دلاری</td>\n",
       "      <td>وزیر راه و ترابری از درخواست حداقل یک‌میلیارد ...</td>\n",
       "      <td>وزیر راه و ترابری از درخواست حداقل یک‌میلیارد ...</td>\n",
       "      <td>0</td>\n",
       "      <td>0</td>\n",
       "    </tr>\n",
       "  </tbody>\n",
       "</table>\n",
       "<p>26123 rows × 8 columns</p>\n",
       "</div>"
      ],
      "text/plain": [
       "                                         id  \\\n",
       "0      b9317aba-38de-4f0c-a4b1-4c3b278a714b   \n",
       "1      e4b22b41-4e74-452b-a8a0-5aaedb3a0778   \n",
       "2      0bfac253-4768-4c74-86ef-fa929ed753c3   \n",
       "3      1fd90c33-f171-4ce3-85f0-015ab242927d   \n",
       "4      141d9785-9030-4a02-9f8e-1a4b6190fa6b   \n",
       "...                                     ...   \n",
       "26118  a0cd627f-2443-4e4e-8d16-b609e3aa9ab6   \n",
       "26119  f56418cc-08e3-4731-9fa1-82173e6cc401   \n",
       "26120  adc333e0-d687-44ff-be65-b0ba624e337a   \n",
       "26121  3e04d69c-65b9-4493-bbdd-d23d8e3f5f4a   \n",
       "26122  7d05adeb-8307-400e-99eb-b3e3d0b6d3b3   \n",
       "\n",
       "                                                     uri  \\\n",
       "0      https://donya-e-eqtesad.com/بخش-%D8%AE%D8%A8%D...   \n",
       "1      https://donya-e-eqtesad.com/بخش-%D8%AF%D9%86%D...   \n",
       "2      https://donya-e-eqtesad.com/بخش-%D8%B3%D8%B1%D...   \n",
       "3      https://donya-e-eqtesad.com/بخش-%D9%85%D8%B3%D...   \n",
       "4      https://donya-e-eqtesad.com/بخش-%D9%85%D8%B3%D...   \n",
       "...                                                  ...   \n",
       "26118  https://donya-e-eqtesad.com/بخش-%D8%B3%D8%B1%D...   \n",
       "26119  https://donya-e-eqtesad.com/بخش-%D8%B3%D8%B1%D...   \n",
       "26120  https://donya-e-eqtesad.com/بخش-%D8%B3%D8%B1%D...   \n",
       "26121  https://donya-e-eqtesad.com/بخش-%D8%B3%D8%B1%D...   \n",
       "26122  https://donya-e-eqtesad.com/بخش-%D8%B3%D8%B1%D...   \n",
       "\n",
       "                         pubdate                                   title  \\\n",
       "0      2023-06-21T20:30:00+00:00             تنها برجام در دستورکار نیست   \n",
       "1      2023-06-21T20:30:00+00:00    جولان عزرائیل در میان فقرای آمریکایی   \n",
       "2      2023-06-21T20:30:00+00:00              همت آغازین تامین مالی جمعی   \n",
       "3      2023-06-21T20:30:00+00:00                  قد و وزن وام جدید مسکن   \n",
       "4      2023-06-21T20:30:00+00:00                     زمین هست، خانه نیست   \n",
       "...                          ...                                     ...   \n",
       "26118  2006-08-03T07:30:00+00:00                      بن‌بست اپراتور دوم   \n",
       "26119  2006-08-02T07:30:00+00:00                           اقتصاد کاسترو   \n",
       "26120  2006-08-01T07:30:00+00:00                خوابی کوتاه برای نقدینگی   \n",
       "26121  2006-07-31T07:30:00+00:00  اصلاح ساختار اقتصادی از شعار تا واقعیت   \n",
       "26122  2006-07-31T07:30:00+00:00     درخواست متمم بودجه یک‌میلیارد دلاری   \n",
       "\n",
       "                                                 summary  \\\n",
       "0      دنیای‌اقتصاد :ابراهیم رئیسی، رئیس‌جمهوری سه‌شن...   \n",
       "1      دنیای‌اقتصاد :کارشناسان می‌گویند که آمریکا از ...   \n",
       "2      میلاد خوش‌زبان*یکی از بزرگ‌ترین چالش‌های شرکت‌...   \n",
       "3      دنیای‌اقتصاد - نجمه رجب :سقف وام خرید مسکن در ...   \n",
       "4      دنیای‌اقتصاد: تازه‌‌‌ترین گزارش وزارت راه وشهر...   \n",
       "...                                                  ...   \n",
       "26118  شهرام شریف بخش فناوری اطلاعات و ارتباطات در کش...   \n",
       "26119  محمود صدریمقا‌م‌های کوبایی گفته‌اند انتقال قدر...   \n",
       "26120  پویا جبل‌عاملیشکاف بین رشد نقدینگی و نرخ تورم ...   \n",
       "26121  امروزه شاید کسی مخالف این ادعا نباشد که اقتصاد...   \n",
       "26122  وزیر راه و ترابری از درخواست حداقل یک‌میلیارد ...   \n",
       "\n",
       "                                                    text  eu  seu  \n",
       "0      ابراهیم رئیسی، رئیس‌جمهوری سه‌شنبه‌شب در دومین...   1    1  \n",
       "1      تحقیقات دانشگاه کالیفرنیا، ریورساید که اوایل س...   1    0  \n",
       "2      برای پاسخ به این نیاز، تامین مالی جمعی (crowdf...   1    0  \n",
       "3      به گزارش «دنیای‌اقتصاد»، وام مسکن از محل خرید ...   1    0  \n",
       "4      در این گزارش در حالی از رسیدن ۱۸۱‌هزار و ۷۰۱ و...   1    0  \n",
       "...                                                  ...  ..  ...  \n",
       "26118  شهرام شریفبخش فناوری اطلاعات و ارتباطات در کشو...   0    0  \n",
       "26119  محمود صدریمقا‌م‌های کوبایی گفته‌اند انتقال قدر...   1    0  \n",
       "26120  پویا جبل‌عاملیشکاف بین رشد نقدینگی و نرخ تورم ...   1    0  \n",
       "26121  امروزه شاید کسی مخالف این ادعا نباشد که اقتصاد...   1    0  \n",
       "26122  وزیر راه و ترابری از درخواست حداقل یک‌میلیارد ...   0    0  \n",
       "\n",
       "[26123 rows x 8 columns]"
      ]
     },
     "execution_count": 2,
     "metadata": {},
     "output_type": "execute_result"
    }
   ],
   "source": [
    "articles_df = pd.read_json(\"../data/articles.json\")\n",
    "\n",
    "articles_df"
   ]
  },
  {
   "cell_type": "code",
   "execution_count": 3,
   "metadata": {},
   "outputs": [
    {
     "data": {
      "text/html": [
       "<div>\n",
       "<style scoped>\n",
       "    .dataframe tbody tr th:only-of-type {\n",
       "        vertical-align: middle;\n",
       "    }\n",
       "\n",
       "    .dataframe tbody tr th {\n",
       "        vertical-align: top;\n",
       "    }\n",
       "\n",
       "    .dataframe thead th {\n",
       "        text-align: right;\n",
       "    }\n",
       "</style>\n",
       "<table border=\"1\" class=\"dataframe\">\n",
       "  <thead>\n",
       "    <tr style=\"text-align: right;\">\n",
       "      <th></th>\n",
       "      <th>total_articles</th>\n",
       "      <th>total_eu</th>\n",
       "      <th>total_seu</th>\n",
       "      <th>eu</th>\n",
       "      <th>seu</th>\n",
       "    </tr>\n",
       "    <tr>\n",
       "      <th>month</th>\n",
       "      <th></th>\n",
       "      <th></th>\n",
       "      <th></th>\n",
       "      <th></th>\n",
       "      <th></th>\n",
       "    </tr>\n",
       "  </thead>\n",
       "  <tbody>\n",
       "    <tr>\n",
       "      <th>2006-07-01</th>\n",
       "      <td>2.0</td>\n",
       "      <td>1.0</td>\n",
       "      <td>0.0</td>\n",
       "      <td>0.500000</td>\n",
       "      <td>0.000000</td>\n",
       "    </tr>\n",
       "    <tr>\n",
       "      <th>2006-08-01</th>\n",
       "      <td>25.0</td>\n",
       "      <td>19.0</td>\n",
       "      <td>5.0</td>\n",
       "      <td>0.760000</td>\n",
       "      <td>0.200000</td>\n",
       "    </tr>\n",
       "    <tr>\n",
       "      <th>2006-09-01</th>\n",
       "      <td>24.0</td>\n",
       "      <td>21.0</td>\n",
       "      <td>2.0</td>\n",
       "      <td>0.875000</td>\n",
       "      <td>0.083333</td>\n",
       "    </tr>\n",
       "    <tr>\n",
       "      <th>2006-10-01</th>\n",
       "      <td>22.0</td>\n",
       "      <td>16.0</td>\n",
       "      <td>1.0</td>\n",
       "      <td>0.727273</td>\n",
       "      <td>0.045455</td>\n",
       "    </tr>\n",
       "    <tr>\n",
       "      <th>2006-11-01</th>\n",
       "      <td>26.0</td>\n",
       "      <td>21.0</td>\n",
       "      <td>4.0</td>\n",
       "      <td>0.807692</td>\n",
       "      <td>0.153846</td>\n",
       "    </tr>\n",
       "    <tr>\n",
       "      <th>...</th>\n",
       "      <td>...</td>\n",
       "      <td>...</td>\n",
       "      <td>...</td>\n",
       "      <td>...</td>\n",
       "      <td>...</td>\n",
       "    </tr>\n",
       "    <tr>\n",
       "      <th>2023-02-01</th>\n",
       "      <td>247.0</td>\n",
       "      <td>232.0</td>\n",
       "      <td>60.0</td>\n",
       "      <td>0.939271</td>\n",
       "      <td>0.242915</td>\n",
       "    </tr>\n",
       "    <tr>\n",
       "      <th>2023-03-01</th>\n",
       "      <td>151.0</td>\n",
       "      <td>140.0</td>\n",
       "      <td>50.0</td>\n",
       "      <td>0.927152</td>\n",
       "      <td>0.331126</td>\n",
       "    </tr>\n",
       "    <tr>\n",
       "      <th>2023-04-01</th>\n",
       "      <td>250.0</td>\n",
       "      <td>227.0</td>\n",
       "      <td>58.0</td>\n",
       "      <td>0.908000</td>\n",
       "      <td>0.232000</td>\n",
       "    </tr>\n",
       "    <tr>\n",
       "      <th>2023-05-01</th>\n",
       "      <td>307.0</td>\n",
       "      <td>286.0</td>\n",
       "      <td>74.0</td>\n",
       "      <td>0.931596</td>\n",
       "      <td>0.241042</td>\n",
       "    </tr>\n",
       "    <tr>\n",
       "      <th>2023-06-01</th>\n",
       "      <td>188.0</td>\n",
       "      <td>164.0</td>\n",
       "      <td>48.0</td>\n",
       "      <td>0.872340</td>\n",
       "      <td>0.255319</td>\n",
       "    </tr>\n",
       "  </tbody>\n",
       "</table>\n",
       "<p>204 rows × 5 columns</p>\n",
       "</div>"
      ],
      "text/plain": [
       "            total_articles  total_eu  total_seu        eu       seu\n",
       "month                                                              \n",
       "2006-07-01             2.0       1.0        0.0  0.500000  0.000000\n",
       "2006-08-01            25.0      19.0        5.0  0.760000  0.200000\n",
       "2006-09-01            24.0      21.0        2.0  0.875000  0.083333\n",
       "2006-10-01            22.0      16.0        1.0  0.727273  0.045455\n",
       "2006-11-01            26.0      21.0        4.0  0.807692  0.153846\n",
       "...                    ...       ...        ...       ...       ...\n",
       "2023-02-01           247.0     232.0       60.0  0.939271  0.242915\n",
       "2023-03-01           151.0     140.0       50.0  0.927152  0.331126\n",
       "2023-04-01           250.0     227.0       58.0  0.908000  0.232000\n",
       "2023-05-01           307.0     286.0       74.0  0.931596  0.241042\n",
       "2023-06-01           188.0     164.0       48.0  0.872340  0.255319\n",
       "\n",
       "[204 rows x 5 columns]"
      ]
     },
     "execution_count": 3,
     "metadata": {},
     "output_type": "execute_result"
    }
   ],
   "source": [
    "monthly_df = (\n",
    "    pd.read_json(\"../data/monthly_metrics.json\")\n",
    "    .transpose()\n",
    "    .iloc[::-1]\n",
    "    .reset_index()\n",
    "    .rename(columns={\"index\": \"month\"})\n",
    ")\n",
    "\n",
    "monthly_df.set_index(\"month\", inplace=True)\n",
    "\n",
    "monthly_df"
   ]
  },
  {
   "cell_type": "code",
   "execution_count": 4,
   "metadata": {},
   "outputs": [
    {
     "data": {
      "text/html": [
       "<div>\n",
       "<style scoped>\n",
       "    .dataframe tbody tr th:only-of-type {\n",
       "        vertical-align: middle;\n",
       "    }\n",
       "\n",
       "    .dataframe tbody tr th {\n",
       "        vertical-align: top;\n",
       "    }\n",
       "\n",
       "    .dataframe thead th {\n",
       "        text-align: right;\n",
       "    }\n",
       "</style>\n",
       "<table border=\"1\" class=\"dataframe\">\n",
       "  <thead>\n",
       "    <tr style=\"text-align: right;\">\n",
       "      <th></th>\n",
       "      <th>total_articles</th>\n",
       "      <th>total_eu</th>\n",
       "      <th>total_seu</th>\n",
       "      <th>eu</th>\n",
       "      <th>seu</th>\n",
       "    </tr>\n",
       "    <tr>\n",
       "      <th>quarter</th>\n",
       "      <th></th>\n",
       "      <th></th>\n",
       "      <th></th>\n",
       "      <th></th>\n",
       "      <th></th>\n",
       "    </tr>\n",
       "  </thead>\n",
       "  <tbody>\n",
       "    <tr>\n",
       "      <th>2006-07-01</th>\n",
       "      <td>51.0</td>\n",
       "      <td>41.0</td>\n",
       "      <td>7.0</td>\n",
       "      <td>0.803922</td>\n",
       "      <td>0.137255</td>\n",
       "    </tr>\n",
       "    <tr>\n",
       "      <th>2006-10-01</th>\n",
       "      <td>73.0</td>\n",
       "      <td>57.0</td>\n",
       "      <td>7.0</td>\n",
       "      <td>0.780822</td>\n",
       "      <td>0.095890</td>\n",
       "    </tr>\n",
       "    <tr>\n",
       "      <th>2007-01-01</th>\n",
       "      <td>60.0</td>\n",
       "      <td>51.0</td>\n",
       "      <td>3.0</td>\n",
       "      <td>0.850000</td>\n",
       "      <td>0.050000</td>\n",
       "    </tr>\n",
       "    <tr>\n",
       "      <th>2007-04-01</th>\n",
       "      <td>73.0</td>\n",
       "      <td>59.0</td>\n",
       "      <td>3.0</td>\n",
       "      <td>0.808219</td>\n",
       "      <td>0.041096</td>\n",
       "    </tr>\n",
       "    <tr>\n",
       "      <th>2007-07-01</th>\n",
       "      <td>77.0</td>\n",
       "      <td>64.0</td>\n",
       "      <td>7.0</td>\n",
       "      <td>0.831169</td>\n",
       "      <td>0.090909</td>\n",
       "    </tr>\n",
       "    <tr>\n",
       "      <th>...</th>\n",
       "      <td>...</td>\n",
       "      <td>...</td>\n",
       "      <td>...</td>\n",
       "      <td>...</td>\n",
       "      <td>...</td>\n",
       "    </tr>\n",
       "    <tr>\n",
       "      <th>2022-04-01</th>\n",
       "      <td>821.0</td>\n",
       "      <td>744.0</td>\n",
       "      <td>262.0</td>\n",
       "      <td>0.906212</td>\n",
       "      <td>0.319123</td>\n",
       "    </tr>\n",
       "    <tr>\n",
       "      <th>2022-07-01</th>\n",
       "      <td>843.0</td>\n",
       "      <td>777.0</td>\n",
       "      <td>245.0</td>\n",
       "      <td>0.921708</td>\n",
       "      <td>0.290629</td>\n",
       "    </tr>\n",
       "    <tr>\n",
       "      <th>2022-10-01</th>\n",
       "      <td>891.0</td>\n",
       "      <td>792.0</td>\n",
       "      <td>228.0</td>\n",
       "      <td>0.888889</td>\n",
       "      <td>0.255892</td>\n",
       "    </tr>\n",
       "    <tr>\n",
       "      <th>2023-01-01</th>\n",
       "      <td>712.0</td>\n",
       "      <td>672.0</td>\n",
       "      <td>189.0</td>\n",
       "      <td>0.943820</td>\n",
       "      <td>0.265449</td>\n",
       "    </tr>\n",
       "    <tr>\n",
       "      <th>2023-04-01</th>\n",
       "      <td>745.0</td>\n",
       "      <td>677.0</td>\n",
       "      <td>180.0</td>\n",
       "      <td>0.908725</td>\n",
       "      <td>0.241611</td>\n",
       "    </tr>\n",
       "  </tbody>\n",
       "</table>\n",
       "<p>68 rows × 5 columns</p>\n",
       "</div>"
      ],
      "text/plain": [
       "            total_articles  total_eu  total_seu        eu       seu\n",
       "quarter                                                            \n",
       "2006-07-01            51.0      41.0        7.0  0.803922  0.137255\n",
       "2006-10-01            73.0      57.0        7.0  0.780822  0.095890\n",
       "2007-01-01            60.0      51.0        3.0  0.850000  0.050000\n",
       "2007-04-01            73.0      59.0        3.0  0.808219  0.041096\n",
       "2007-07-01            77.0      64.0        7.0  0.831169  0.090909\n",
       "...                    ...       ...        ...       ...       ...\n",
       "2022-04-01           821.0     744.0      262.0  0.906212  0.319123\n",
       "2022-07-01           843.0     777.0      245.0  0.921708  0.290629\n",
       "2022-10-01           891.0     792.0      228.0  0.888889  0.255892\n",
       "2023-01-01           712.0     672.0      189.0  0.943820  0.265449\n",
       "2023-04-01           745.0     677.0      180.0  0.908725  0.241611\n",
       "\n",
       "[68 rows x 5 columns]"
      ]
     },
     "execution_count": 4,
     "metadata": {},
     "output_type": "execute_result"
    }
   ],
   "source": [
    "quarterly_df = (\n",
    "    pd.read_json(\"../data/quarterly_metrics.json\")\n",
    "    .transpose()\n",
    "    .iloc[::-1]\n",
    "    .reset_index()\n",
    "    .rename(columns={\"index\": \"quarter\"})\n",
    ")\n",
    "\n",
    "quarterly_df.set_index(\"quarter\", inplace=True)\n",
    "\n",
    "quarterly_df"
   ]
  },
  {
   "cell_type": "code",
   "execution_count": 5,
   "metadata": {},
   "outputs": [
    {
     "data": {
      "text/html": [
       "<div>\n",
       "<style scoped>\n",
       "    .dataframe tbody tr th:only-of-type {\n",
       "        vertical-align: middle;\n",
       "    }\n",
       "\n",
       "    .dataframe tbody tr th {\n",
       "        vertical-align: top;\n",
       "    }\n",
       "\n",
       "    .dataframe thead th {\n",
       "        text-align: right;\n",
       "    }\n",
       "</style>\n",
       "<table border=\"1\" class=\"dataframe\">\n",
       "  <thead>\n",
       "    <tr style=\"text-align: right;\">\n",
       "      <th></th>\n",
       "      <th>s_t</th>\n",
       "    </tr>\n",
       "    <tr>\n",
       "      <th>quarter</th>\n",
       "      <th></th>\n",
       "    </tr>\n",
       "  </thead>\n",
       "  <tbody>\n",
       "    <tr>\n",
       "      <th>1979-04-01</th>\n",
       "      <td>0.077507</td>\n",
       "    </tr>\n",
       "    <tr>\n",
       "      <th>1979-07-01</th>\n",
       "      <td>0.043900</td>\n",
       "    </tr>\n",
       "    <tr>\n",
       "      <th>1979-10-01</th>\n",
       "      <td>0.714879</td>\n",
       "    </tr>\n",
       "    <tr>\n",
       "      <th>1980-01-01</th>\n",
       "      <td>1.299615</td>\n",
       "    </tr>\n",
       "    <tr>\n",
       "      <th>1980-04-01</th>\n",
       "      <td>2.234835</td>\n",
       "    </tr>\n",
       "    <tr>\n",
       "      <th>...</th>\n",
       "      <td>...</td>\n",
       "    </tr>\n",
       "    <tr>\n",
       "      <th>2020-07-01</th>\n",
       "      <td>0.205385</td>\n",
       "    </tr>\n",
       "    <tr>\n",
       "      <th>2020-10-01</th>\n",
       "      <td>NaN</td>\n",
       "    </tr>\n",
       "    <tr>\n",
       "      <th>2021-01-01</th>\n",
       "      <td>NaN</td>\n",
       "    </tr>\n",
       "    <tr>\n",
       "      <th>2021-04-01</th>\n",
       "      <td>NaN</td>\n",
       "    </tr>\n",
       "    <tr>\n",
       "      <th>2021-07-01</th>\n",
       "      <td>NaN</td>\n",
       "    </tr>\n",
       "  </tbody>\n",
       "</table>\n",
       "<p>170 rows × 1 columns</p>\n",
       "</div>"
      ],
      "text/plain": [
       "                 s_t\n",
       "quarter             \n",
       "1979-04-01  0.077507\n",
       "1979-07-01  0.043900\n",
       "1979-10-01  0.714879\n",
       "1980-01-01  1.299615\n",
       "1980-04-01  2.234835\n",
       "...              ...\n",
       "2020-07-01  0.205385\n",
       "2020-10-01       NaN\n",
       "2021-01-01       NaN\n",
       "2021-04-01       NaN\n",
       "2021-07-01       NaN\n",
       "\n",
       "[170 rows x 1 columns]"
      ]
     },
     "execution_count": 5,
     "metadata": {},
     "output_type": "execute_result"
    }
   ],
   "source": [
    "pesaran_df = pd.read_excel(\"../data/pesaran.xlsx\")\n",
    "\n",
    "pesaran_df[\"quarter\"] = pd.to_datetime(pesaran_df[\"quarter\"])\n",
    "\n",
    "pesaran_df = pesaran_df[[\"quarter\", \"s_t\"]].reset_index().drop(columns=[\"index\"])\n",
    "\n",
    "pesaran_df.set_index(\"quarter\", inplace=True)\n",
    "\n",
    "pesaran_df"
   ]
  },
  {
   "cell_type": "code",
   "execution_count": 6,
   "metadata": {},
   "outputs": [
    {
     "data": {
      "text/plain": [
       "<AxesSubplot:xlabel='month'>"
      ]
     },
     "execution_count": 6,
     "metadata": {},
     "output_type": "execute_result"
    },
    {
     "data": {
      "image/png": "[encoded data removed]",
      "text/plain": [
       "<Figure size 1152x648 with 1 Axes>"
      ]
     },
     "metadata": {
      "needs_background": "light"
     },
     "output_type": "display_data"
    }
   ],
   "source": [
    "monthly_df.plot.line(y=[\"eu\", \"seu\"], figsize=(16, 9))"
   ]
  },
  {
   "cell_type": "code",
   "execution_count": 7,
   "metadata": {},
   "outputs": [
    {
     "data": {
      "text/plain": [
       "<AxesSubplot:xlabel='quarter'>"
      ]
     },
     "execution_count": 7,
     "metadata": {},
     "output_type": "execute_result"
    },
    {
     "data": {
      "image/png": "[encoded data removed]",
      "text/plain": [
       "<Figure size 1152x648 with 1 Axes>"
      ]
     },
     "metadata": {
      "needs_background": "light"
     },
     "output_type": "display_data"
    }
   ],
   "source": [
    "quarterly_df.plot.line(y=[\"eu\", \"seu\"], figsize=(16, 9))"
   ]
  },
  {
   "cell_type": "code",
   "execution_count": 8,
   "metadata": {},
   "outputs": [
    {
     "data": {
      "text/plain": [
       "<AxesSubplot:xlabel='y(t)', ylabel='y(t + 1)'>"
      ]
     },
     "execution_count": 8,
     "metadata": {},
     "output_type": "execute_result"
    },
    {
     "data": {
      "image/png": "[encoded data removed]",
      "text/plain": [
       "<Figure size 432x288 with 1 Axes>"
      ]
     },
     "metadata": {
      "needs_background": "light"
     },
     "output_type": "display_data"
    }
   ],
   "source": [
    "pd.plotting.lag_plot(quarterly_df[\"eu\"], lag=1)"
   ]
  },
  {
   "cell_type": "code",
   "execution_count": 9,
   "metadata": {},
   "outputs": [
    {
     "data": {
      "text/plain": [
       "<AxesSubplot:xlabel='y(t)', ylabel='y(t + 1)'>"
      ]
     },
     "execution_count": 9,
     "metadata": {},
     "output_type": "execute_result"
    },
    {
     "data": {
      "image/png": "[encoded data removed]",
      "text/plain": [
       "<Figure size 432x288 with 1 Axes>"
      ]
     },
     "metadata": {
      "needs_background": "light"
     },
     "output_type": "display_data"
    }
   ],
   "source": [
    "pd.plotting.lag_plot(quarterly_df[\"seu\"], lag=1)"
   ]
  },
  {
   "cell_type": "code",
   "execution_count": 10,
   "metadata": {},
   "outputs": [
    {
     "data": {
      "text/html": [
       "<div>\n",
       "<style scoped>\n",
       "    .dataframe tbody tr th:only-of-type {\n",
       "        vertical-align: middle;\n",
       "    }\n",
       "\n",
       "    .dataframe tbody tr th {\n",
       "        vertical-align: top;\n",
       "    }\n",
       "\n",
       "    .dataframe thead th {\n",
       "        text-align: right;\n",
       "    }\n",
       "</style>\n",
       "<table border=\"1\" class=\"dataframe\">\n",
       "  <thead>\n",
       "    <tr style=\"text-align: right;\">\n",
       "      <th></th>\n",
       "      <th>mean</th>\n",
       "      <th>std</th>\n",
       "      <th>autocorr</th>\n",
       "    </tr>\n",
       "  </thead>\n",
       "  <tbody>\n",
       "    <tr>\n",
       "      <th>eu</th>\n",
       "      <td>0.821690</td>\n",
       "      <td>0.382781</td>\n",
       "      <td>0.850673</td>\n",
       "    </tr>\n",
       "    <tr>\n",
       "      <th>seu</th>\n",
       "      <td>0.257972</td>\n",
       "      <td>0.437527</td>\n",
       "      <td>0.813710</td>\n",
       "    </tr>\n",
       "  </tbody>\n",
       "</table>\n",
       "</div>"
      ],
      "text/plain": [
       "         mean       std  autocorr\n",
       "eu   0.821690  0.382781  0.850673\n",
       "seu  0.257972  0.437527  0.813710"
      ]
     },
     "execution_count": 10,
     "metadata": {},
     "output_type": "execute_result"
    }
   ],
   "source": [
    "pd.DataFrame(\n",
    "    {\n",
    "        \"mean\": {\n",
    "            \"eu\": articles_df[\"eu\"].mean(),\n",
    "            \"seu\": articles_df[\"seu\"].mean(),\n",
    "        },\n",
    "        \"std\": {\n",
    "            \"eu\": articles_df[\"eu\"].std(),\n",
    "            \"seu\": articles_df[\"seu\"].std(),\n",
    "        },\n",
    "        \"autocorr\": {\n",
    "            \"eu\": quarterly_df[\"eu\"].autocorr(lag=1),\n",
    "            \"seu\": quarterly_df[\"seu\"].autocorr(lag=1),\n",
    "        },\n",
    "    }\n",
    ")"
   ]
  },
  {
   "cell_type": "code",
   "execution_count": 11,
   "metadata": {},
   "outputs": [
    {
     "data": {
      "text/html": [
       "<div>\n",
       "<style scoped>\n",
       "    .dataframe tbody tr th:only-of-type {\n",
       "        vertical-align: middle;\n",
       "    }\n",
       "\n",
       "    .dataframe tbody tr th {\n",
       "        vertical-align: top;\n",
       "    }\n",
       "\n",
       "    .dataframe thead th {\n",
       "        text-align: right;\n",
       "    }\n",
       "</style>\n",
       "<table border=\"1\" class=\"dataframe\">\n",
       "  <thead>\n",
       "    <tr style=\"text-align: right;\">\n",
       "      <th></th>\n",
       "      <th>eu</th>\n",
       "      <th>seu</th>\n",
       "      <th>lp</th>\n",
       "    </tr>\n",
       "  </thead>\n",
       "  <tbody>\n",
       "    <tr>\n",
       "      <th>eu</th>\n",
       "      <td>1.000000</td>\n",
       "      <td>-0.15952</td>\n",
       "      <td>0.462882</td>\n",
       "    </tr>\n",
       "    <tr>\n",
       "      <th>seu</th>\n",
       "      <td>-0.159520</td>\n",
       "      <td>1.00000</td>\n",
       "      <td>0.209880</td>\n",
       "    </tr>\n",
       "    <tr>\n",
       "      <th>lp</th>\n",
       "      <td>0.462882</td>\n",
       "      <td>0.20988</td>\n",
       "      <td>1.000000</td>\n",
       "    </tr>\n",
       "  </tbody>\n",
       "</table>\n",
       "</div>"
      ],
      "text/plain": [
       "           eu      seu        lp\n",
       "eu   1.000000 -0.15952  0.462882\n",
       "seu -0.159520  1.00000  0.209880\n",
       "lp   0.462882  0.20988  1.000000"
      ]
     },
     "execution_count": 11,
     "metadata": {},
     "output_type": "execute_result"
    }
   ],
   "source": [
    "pd.DataFrame(\n",
    "    {\n",
    "        \"eu\": quarterly_df.iloc[:57][\"eu\"].to_list(),\n",
    "        \"seu\": quarterly_df.iloc[:57][\"seu\"].to_list(),\n",
    "        \"lp\": pesaran_df.iloc[109:-4][\"s_t\"].to_list(),\n",
    "    }\n",
    ").corr()"
   ]
  },
  {
   "cell_type": "code",
   "execution_count": 12,
   "metadata": {},
   "outputs": [
    {
     "data": {
      "text/html": [
       "<div>\n",
       "<style scoped>\n",
       "    .dataframe tbody tr th:only-of-type {\n",
       "        vertical-align: middle;\n",
       "    }\n",
       "\n",
       "    .dataframe tbody tr th {\n",
       "        vertical-align: top;\n",
       "    }\n",
       "\n",
       "    .dataframe thead th {\n",
       "        text-align: right;\n",
       "    }\n",
       "</style>\n",
       "<table border=\"1\" class=\"dataframe\">\n",
       "  <thead>\n",
       "    <tr style=\"text-align: right;\">\n",
       "      <th></th>\n",
       "      <th>DollarPrice</th>\n",
       "    </tr>\n",
       "    <tr>\n",
       "      <th>Date</th>\n",
       "      <th></th>\n",
       "    </tr>\n",
       "  </thead>\n",
       "  <tbody>\n",
       "    <tr>\n",
       "      <th>1981-09-29</th>\n",
       "      <td>270.0</td>\n",
       "    </tr>\n",
       "    <tr>\n",
       "      <th>1981-09-30</th>\n",
       "      <td>270.0</td>\n",
       "    </tr>\n",
       "    <tr>\n",
       "      <th>1981-10-01</th>\n",
       "      <td>270.0</td>\n",
       "    </tr>\n",
       "    <tr>\n",
       "      <th>1981-10-03</th>\n",
       "      <td>270.0</td>\n",
       "    </tr>\n",
       "    <tr>\n",
       "      <th>1981-10-04</th>\n",
       "      <td>270.0</td>\n",
       "    </tr>\n",
       "    <tr>\n",
       "      <th>...</th>\n",
       "      <td>...</td>\n",
       "    </tr>\n",
       "    <tr>\n",
       "      <th>2023-11-07</th>\n",
       "      <td>511770.0</td>\n",
       "    </tr>\n",
       "    <tr>\n",
       "      <th>2023-11-08</th>\n",
       "      <td>510200.0</td>\n",
       "    </tr>\n",
       "    <tr>\n",
       "      <th>2023-11-09</th>\n",
       "      <td>513260.0</td>\n",
       "    </tr>\n",
       "    <tr>\n",
       "      <th>2023-11-11</th>\n",
       "      <td>513240.0</td>\n",
       "    </tr>\n",
       "    <tr>\n",
       "      <th>2023-11-12</th>\n",
       "      <td>513250.0</td>\n",
       "    </tr>\n",
       "  </tbody>\n",
       "</table>\n",
       "<p>11029 rows × 1 columns</p>\n",
       "</div>"
      ],
      "text/plain": [
       "            DollarPrice\n",
       "Date                   \n",
       "1981-09-29        270.0\n",
       "1981-09-30        270.0\n",
       "1981-10-01        270.0\n",
       "1981-10-03        270.0\n",
       "1981-10-04        270.0\n",
       "...                 ...\n",
       "2023-11-07     511770.0\n",
       "2023-11-08     510200.0\n",
       "2023-11-09     513260.0\n",
       "2023-11-11     513240.0\n",
       "2023-11-12     513250.0\n",
       "\n",
       "[11029 rows x 1 columns]"
      ]
     },
     "execution_count": 12,
     "metadata": {},
     "output_type": "execute_result"
    }
   ],
   "source": [
    "usd_df = pd.read_csv(\"../data/usd_toman_history.csv\").drop(\n",
    "    columns=[\"date_pr\", \"source\"]\n",
    ")\n",
    "\n",
    "usd = pd.read_csv(\"../data/DollarPrice.csv\")\n",
    "\n",
    "\n",
    "usd[\"Date\"] = pd.to_datetime(usd[\"Date\"])\n",
    "\n",
    "usd.set_index(\"Date\", inplace=True)\n",
    "usd['DollarPrice']=usd['DollarPrice'].astype(int)\n",
    "usd_df.rename(columns={'date_gr':'Date','price_avg':'Price'},inplace=True)\n",
    "usd_df[\"Date\"] = pd.to_datetime(usd_df[\"Date\"])\n",
    "\n",
    "usd_df.set_index(\"Date\", inplace=True)\n",
    "usd_df['Price']=usd_df['Price'].astype(int)\n",
    "usd_df=usd_df[usd_df.index<usd.index[-1]]\n",
    "\n",
    "usd_df = pd.concat([usd_df, usd], axis=1)\n",
    "usd_df['DollarPrice']=usd_df['DollarPrice'].fillna(usd_df['Price'])\n",
    "usd_df.drop(columns=['Price'],inplace=True)\n",
    "usd_df"
   ]
  },
  {
   "cell_type": "code",
   "execution_count": 13,
   "metadata": {},
   "outputs": [
    {
     "data": {
      "text/html": [
       "<div>\n",
       "<style scoped>\n",
       "    .dataframe tbody tr th:only-of-type {\n",
       "        vertical-align: middle;\n",
       "    }\n",
       "\n",
       "    .dataframe tbody tr th {\n",
       "        vertical-align: top;\n",
       "    }\n",
       "\n",
       "    .dataframe thead th {\n",
       "        text-align: right;\n",
       "    }\n",
       "</style>\n",
       "<table border=\"1\" class=\"dataframe\">\n",
       "  <thead>\n",
       "    <tr style=\"text-align: right;\">\n",
       "      <th></th>\n",
       "      <th>DollarPrice</th>\n",
       "    </tr>\n",
       "    <tr>\n",
       "      <th>Date</th>\n",
       "      <th></th>\n",
       "    </tr>\n",
       "  </thead>\n",
       "  <tbody>\n",
       "    <tr>\n",
       "      <th>1981-07-01</th>\n",
       "      <td>270.0</td>\n",
       "    </tr>\n",
       "    <tr>\n",
       "      <th>1981-10-01</th>\n",
       "      <td>270.0</td>\n",
       "    </tr>\n",
       "    <tr>\n",
       "      <th>1982-01-01</th>\n",
       "      <td>280.0</td>\n",
       "    </tr>\n",
       "    <tr>\n",
       "      <th>1982-04-01</th>\n",
       "      <td>350.0</td>\n",
       "    </tr>\n",
       "    <tr>\n",
       "      <th>1982-07-01</th>\n",
       "      <td>350.0</td>\n",
       "    </tr>\n",
       "    <tr>\n",
       "      <th>...</th>\n",
       "      <td>...</td>\n",
       "    </tr>\n",
       "    <tr>\n",
       "      <th>2022-10-01</th>\n",
       "      <td>364029.0</td>\n",
       "    </tr>\n",
       "    <tr>\n",
       "      <th>2023-01-01</th>\n",
       "      <td>433338.0</td>\n",
       "    </tr>\n",
       "    <tr>\n",
       "      <th>2023-04-01</th>\n",
       "      <td>506086.0</td>\n",
       "    </tr>\n",
       "    <tr>\n",
       "      <th>2023-07-01</th>\n",
       "      <td>493027.0</td>\n",
       "    </tr>\n",
       "    <tr>\n",
       "      <th>2023-10-01</th>\n",
       "      <td>510657.0</td>\n",
       "    </tr>\n",
       "  </tbody>\n",
       "</table>\n",
       "<p>170 rows × 1 columns</p>\n",
       "</div>"
      ],
      "text/plain": [
       "            DollarPrice\n",
       "Date                   \n",
       "1981-07-01        270.0\n",
       "1981-10-01        270.0\n",
       "1982-01-01        280.0\n",
       "1982-04-01        350.0\n",
       "1982-07-01        350.0\n",
       "...                 ...\n",
       "2022-10-01     364029.0\n",
       "2023-01-01     433338.0\n",
       "2023-04-01     506086.0\n",
       "2023-07-01     493027.0\n",
       "2023-10-01     510657.0\n",
       "\n",
       "[170 rows x 1 columns]"
      ]
     },
     "execution_count": 13,
     "metadata": {},
     "output_type": "execute_result"
    }
   ],
   "source": [
    "usd_df = usd_df.resample('QS').mean()\n",
    "\n",
    "usd_df=usd_df.round()\n",
    "\n",
    "usd_df"
   ]
  },
  {
   "cell_type": "code",
   "execution_count": 14,
   "metadata": {},
   "outputs": [
    {
     "data": {
      "text/plain": [
       "<AxesSubplot:xlabel='Date'>"
      ]
     },
     "execution_count": 14,
     "metadata": {},
     "output_type": "execute_result"
    },
    {
     "data": {
      "image/png": "[encoded data removed]",
      "text/plain": [
       "<Figure size 1152x648 with 1 Axes>"
      ]
     },
     "metadata": {
      "needs_background": "light"
     },
     "output_type": "display_data"
    }
   ],
   "source": [
    "usd_df.plot.line(y=[\"DollarPrice\"], figsize=(16, 9))"
   ]
  },
  {
   "cell_type": "code",
   "execution_count": 15,
   "metadata": {},
   "outputs": [
    {
     "data": {
      "text/plain": [
       "0.18034274988154397"
      ]
     },
     "execution_count": 15,
     "metadata": {},
     "output_type": "execute_result"
    }
   ],
   "source": [
    "eu_usd_model = LinearRegression()\n",
    "\n",
    "x = quarterly_df.iloc[:-1][['eu']]\n",
    "y = usd_df.iloc[100:-3][['DollarPrice']]\n",
    "\n",
    "eu_usd_model.fit(x, y)\n",
    "eu_usd_model.score(x, y)"
   ]
  },
  {
   "cell_type": "code",
   "execution_count": 16,
   "metadata": {},
   "outputs": [
    {
     "data": {
      "text/plain": [
       "0.3451676577691525"
      ]
     },
     "execution_count": 16,
     "metadata": {},
     "output_type": "execute_result"
    }
   ],
   "source": [
    "seu_usd_model = LinearRegression()\n",
    "\n",
    "x = quarterly_df.iloc[:-1][['seu']]\n",
    "y = usd_df.iloc[100:-3][['DollarPrice']]\n",
    "\n",
    "seu_usd_model.fit(x, y)\n",
    "seu_usd_model.score(x, y)"
   ]
  },
  {
   "cell_type": "code",
   "execution_count": 17,
   "metadata": {},
   "outputs": [
    {
     "data": {
      "text/plain": [
       "0.23665872077732486"
      ]
     },
     "execution_count": 17,
     "metadata": {},
     "output_type": "execute_result"
    }
   ],
   "source": [
    "pesaran_usd_model = LinearRegression()\n",
    "\n",
    "x = pesaran_df[9:-4][['s_t']]\n",
    "y = usd_df.iloc[:-13][['DollarPrice']]\n",
    "\n",
    "pesaran_usd_model.fit(x, y)\n",
    "pesaran_usd_model.score(x, y)"
   ]
  },
  {
   "cell_type": "code",
   "execution_count": 18,
   "metadata": {},
   "outputs": [
    {
     "data": {
      "text/html": [
       "<div>\n",
       "<style scoped>\n",
       "    .dataframe tbody tr th:only-of-type {\n",
       "        vertical-align: middle;\n",
       "    }\n",
       "\n",
       "    .dataframe tbody tr th {\n",
       "        vertical-align: top;\n",
       "    }\n",
       "\n",
       "    .dataframe thead th {\n",
       "        text-align: right;\n",
       "    }\n",
       "</style>\n",
       "<table border=\"1\" class=\"dataframe\">\n",
       "  <thead>\n",
       "    <tr style=\"text-align: right;\">\n",
       "      <th></th>\n",
       "      <th>value</th>\n",
       "    </tr>\n",
       "    <tr>\n",
       "      <th>date</th>\n",
       "      <th></th>\n",
       "    </tr>\n",
       "  </thead>\n",
       "  <tbody>\n",
       "    <tr>\n",
       "      <th>2008-10-01</th>\n",
       "      <td>8.916110e+03</td>\n",
       "    </tr>\n",
       "    <tr>\n",
       "      <th>2009-01-01</th>\n",
       "      <td>8.331759e+03</td>\n",
       "    </tr>\n",
       "    <tr>\n",
       "      <th>2009-04-01</th>\n",
       "      <td>8.829256e+03</td>\n",
       "    </tr>\n",
       "    <tr>\n",
       "      <th>2009-07-01</th>\n",
       "      <td>1.057003e+04</td>\n",
       "    </tr>\n",
       "    <tr>\n",
       "      <th>2009-10-01</th>\n",
       "      <td>1.196656e+04</td>\n",
       "    </tr>\n",
       "    <tr>\n",
       "      <th>2010-01-01</th>\n",
       "      <td>1.192630e+04</td>\n",
       "    </tr>\n",
       "    <tr>\n",
       "      <th>2010-04-01</th>\n",
       "      <td>1.407488e+04</td>\n",
       "    </tr>\n",
       "    <tr>\n",
       "      <th>2010-07-01</th>\n",
       "      <td>1.686120e+04</td>\n",
       "    </tr>\n",
       "    <tr>\n",
       "      <th>2010-10-01</th>\n",
       "      <td>1.829673e+04</td>\n",
       "    </tr>\n",
       "    <tr>\n",
       "      <th>2011-01-01</th>\n",
       "      <td>2.140001e+04</td>\n",
       "    </tr>\n",
       "    <tr>\n",
       "      <th>2011-04-01</th>\n",
       "      <td>2.555029e+04</td>\n",
       "    </tr>\n",
       "    <tr>\n",
       "      <th>2011-07-01</th>\n",
       "      <td>2.555565e+04</td>\n",
       "    </tr>\n",
       "    <tr>\n",
       "      <th>2011-10-01</th>\n",
       "      <td>2.538913e+04</td>\n",
       "    </tr>\n",
       "    <tr>\n",
       "      <th>2012-01-01</th>\n",
       "      <td>2.542662e+04</td>\n",
       "    </tr>\n",
       "    <tr>\n",
       "      <th>2012-04-01</th>\n",
       "      <td>2.662424e+04</td>\n",
       "    </tr>\n",
       "    <tr>\n",
       "      <th>2012-07-01</th>\n",
       "      <td>2.533761e+04</td>\n",
       "    </tr>\n",
       "    <tr>\n",
       "      <th>2012-10-01</th>\n",
       "      <td>3.209166e+04</td>\n",
       "    </tr>\n",
       "    <tr>\n",
       "      <th>2013-01-01</th>\n",
       "      <td>3.773276e+04</td>\n",
       "    </tr>\n",
       "    <tr>\n",
       "      <th>2013-04-01</th>\n",
       "      <td>4.424337e+04</td>\n",
       "    </tr>\n",
       "    <tr>\n",
       "      <th>2013-07-01</th>\n",
       "      <td>5.814456e+04</td>\n",
       "    </tr>\n",
       "    <tr>\n",
       "      <th>2013-10-01</th>\n",
       "      <td>7.829896e+04</td>\n",
       "    </tr>\n",
       "    <tr>\n",
       "      <th>2014-01-01</th>\n",
       "      <td>8.164676e+04</td>\n",
       "    </tr>\n",
       "    <tr>\n",
       "      <th>2014-04-01</th>\n",
       "      <td>7.551835e+04</td>\n",
       "    </tr>\n",
       "    <tr>\n",
       "      <th>2014-07-01</th>\n",
       "      <td>7.300829e+04</td>\n",
       "    </tr>\n",
       "    <tr>\n",
       "      <th>2014-10-01</th>\n",
       "      <td>7.287266e+04</td>\n",
       "    </tr>\n",
       "    <tr>\n",
       "      <th>2015-01-01</th>\n",
       "      <td>6.510212e+04</td>\n",
       "    </tr>\n",
       "    <tr>\n",
       "      <th>2015-04-01</th>\n",
       "      <td>6.499596e+04</td>\n",
       "    </tr>\n",
       "    <tr>\n",
       "      <th>2015-07-01</th>\n",
       "      <td>6.503233e+04</td>\n",
       "    </tr>\n",
       "    <tr>\n",
       "      <th>2015-10-01</th>\n",
       "      <td>6.236703e+04</td>\n",
       "    </tr>\n",
       "    <tr>\n",
       "      <th>2016-01-01</th>\n",
       "      <td>7.320887e+04</td>\n",
       "    </tr>\n",
       "    <tr>\n",
       "      <th>2016-04-01</th>\n",
       "      <td>7.694997e+04</td>\n",
       "    </tr>\n",
       "    <tr>\n",
       "      <th>2016-07-01</th>\n",
       "      <td>7.639862e+04</td>\n",
       "    </tr>\n",
       "    <tr>\n",
       "      <th>2016-10-01</th>\n",
       "      <td>7.929651e+04</td>\n",
       "    </tr>\n",
       "    <tr>\n",
       "      <th>2017-01-01</th>\n",
       "      <td>7.771848e+04</td>\n",
       "    </tr>\n",
       "    <tr>\n",
       "      <th>2017-04-01</th>\n",
       "      <td>7.950509e+04</td>\n",
       "    </tr>\n",
       "    <tr>\n",
       "      <th>2017-07-01</th>\n",
       "      <td>8.197010e+04</td>\n",
       "    </tr>\n",
       "    <tr>\n",
       "      <th>2017-10-01</th>\n",
       "      <td>8.973851e+04</td>\n",
       "    </tr>\n",
       "    <tr>\n",
       "      <th>2018-01-01</th>\n",
       "      <td>9.747889e+04</td>\n",
       "    </tr>\n",
       "    <tr>\n",
       "      <th>2018-04-01</th>\n",
       "      <td>9.776438e+04</td>\n",
       "    </tr>\n",
       "    <tr>\n",
       "      <th>2018-07-01</th>\n",
       "      <td>1.319765e+05</td>\n",
       "    </tr>\n",
       "    <tr>\n",
       "      <th>2018-10-01</th>\n",
       "      <td>1.736734e+05</td>\n",
       "    </tr>\n",
       "    <tr>\n",
       "      <th>2019-01-01</th>\n",
       "      <td>1.648119e+05</td>\n",
       "    </tr>\n",
       "    <tr>\n",
       "      <th>2019-04-01</th>\n",
       "      <td>2.168883e+05</td>\n",
       "    </tr>\n",
       "    <tr>\n",
       "      <th>2019-07-01</th>\n",
       "      <td>2.711623e+05</td>\n",
       "    </tr>\n",
       "    <tr>\n",
       "      <th>2019-10-01</th>\n",
       "      <td>3.237442e+05</td>\n",
       "    </tr>\n",
       "    <tr>\n",
       "      <th>2020-01-01</th>\n",
       "      <td>4.616477e+05</td>\n",
       "    </tr>\n",
       "    <tr>\n",
       "      <th>2020-04-01</th>\n",
       "      <td>9.740855e+05</td>\n",
       "    </tr>\n",
       "    <tr>\n",
       "      <th>2020-07-01</th>\n",
       "      <td>1.760441e+06</td>\n",
       "    </tr>\n",
       "    <tr>\n",
       "      <th>2020-10-01</th>\n",
       "      <td>1.412309e+06</td>\n",
       "    </tr>\n",
       "    <tr>\n",
       "      <th>2021-01-01</th>\n",
       "      <td>1.237259e+06</td>\n",
       "    </tr>\n",
       "    <tr>\n",
       "      <th>2021-04-01</th>\n",
       "      <td>1.187622e+06</td>\n",
       "    </tr>\n",
       "    <tr>\n",
       "      <th>2021-07-01</th>\n",
       "      <td>1.418464e+06</td>\n",
       "    </tr>\n",
       "    <tr>\n",
       "      <th>2021-10-01</th>\n",
       "      <td>1.391002e+06</td>\n",
       "    </tr>\n",
       "    <tr>\n",
       "      <th>2022-01-01</th>\n",
       "      <td>1.314521e+06</td>\n",
       "    </tr>\n",
       "    <tr>\n",
       "      <th>2022-04-01</th>\n",
       "      <td>1.526859e+06</td>\n",
       "    </tr>\n",
       "    <tr>\n",
       "      <th>2022-07-01</th>\n",
       "      <td>1.437803e+06</td>\n",
       "    </tr>\n",
       "    <tr>\n",
       "      <th>2022-10-01</th>\n",
       "      <td>1.386236e+06</td>\n",
       "    </tr>\n",
       "    <tr>\n",
       "      <th>2023-01-01</th>\n",
       "      <td>1.700088e+06</td>\n",
       "    </tr>\n",
       "    <tr>\n",
       "      <th>2023-04-01</th>\n",
       "      <td>2.273178e+06</td>\n",
       "    </tr>\n",
       "    <tr>\n",
       "      <th>2023-07-01</th>\n",
       "      <td>2.039703e+06</td>\n",
       "    </tr>\n",
       "  </tbody>\n",
       "</table>\n",
       "</div>"
      ],
      "text/plain": [
       "                   value\n",
       "date                    \n",
       "2008-10-01  8.916110e+03\n",
       "2009-01-01  8.331759e+03\n",
       "2009-04-01  8.829256e+03\n",
       "2009-07-01  1.057003e+04\n",
       "2009-10-01  1.196656e+04\n",
       "2010-01-01  1.192630e+04\n",
       "2010-04-01  1.407488e+04\n",
       "2010-07-01  1.686120e+04\n",
       "2010-10-01  1.829673e+04\n",
       "2011-01-01  2.140001e+04\n",
       "2011-04-01  2.555029e+04\n",
       "2011-07-01  2.555565e+04\n",
       "2011-10-01  2.538913e+04\n",
       "2012-01-01  2.542662e+04\n",
       "2012-04-01  2.662424e+04\n",
       "2012-07-01  2.533761e+04\n",
       "2012-10-01  3.209166e+04\n",
       "2013-01-01  3.773276e+04\n",
       "2013-04-01  4.424337e+04\n",
       "2013-07-01  5.814456e+04\n",
       "2013-10-01  7.829896e+04\n",
       "2014-01-01  8.164676e+04\n",
       "2014-04-01  7.551835e+04\n",
       "2014-07-01  7.300829e+04\n",
       "2014-10-01  7.287266e+04\n",
       "2015-01-01  6.510212e+04\n",
       "2015-04-01  6.499596e+04\n",
       "2015-07-01  6.503233e+04\n",
       "2015-10-01  6.236703e+04\n",
       "2016-01-01  7.320887e+04\n",
       "2016-04-01  7.694997e+04\n",
       "2016-07-01  7.639862e+04\n",
       "2016-10-01  7.929651e+04\n",
       "2017-01-01  7.771848e+04\n",
       "2017-04-01  7.950509e+04\n",
       "2017-07-01  8.197010e+04\n",
       "2017-10-01  8.973851e+04\n",
       "2018-01-01  9.747889e+04\n",
       "2018-04-01  9.776438e+04\n",
       "2018-07-01  1.319765e+05\n",
       "2018-10-01  1.736734e+05\n",
       "2019-01-01  1.648119e+05\n",
       "2019-04-01  2.168883e+05\n",
       "2019-07-01  2.711623e+05\n",
       "2019-10-01  3.237442e+05\n",
       "2020-01-01  4.616477e+05\n",
       "2020-04-01  9.740855e+05\n",
       "2020-07-01  1.760441e+06\n",
       "2020-10-01  1.412309e+06\n",
       "2021-01-01  1.237259e+06\n",
       "2021-04-01  1.187622e+06\n",
       "2021-07-01  1.418464e+06\n",
       "2021-10-01  1.391002e+06\n",
       "2022-01-01  1.314521e+06\n",
       "2022-04-01  1.526859e+06\n",
       "2022-07-01  1.437803e+06\n",
       "2022-10-01  1.386236e+06\n",
       "2023-01-01  1.700088e+06\n",
       "2023-04-01  2.273178e+06\n",
       "2023-07-01  2.039703e+06"
      ]
     },
     "execution_count": 18,
     "metadata": {},
     "output_type": "execute_result"
    }
   ],
   "source": [
    "tse_df = pd.read_csv('../data/tse_history.csv')\n",
    "\n",
    "tse_df['date'] = pd.to_datetime(tse_df['date'])\n",
    "\n",
    "tse_df.set_index('date', inplace=True)\n",
    "\n",
    "tse_df = tse_df.resample('QS').mean()\n",
    "\n",
    "tse_df"
   ]
  },
  {
   "cell_type": "code",
   "execution_count": 19,
   "metadata": {},
   "outputs": [
    {
     "data": {
      "text/plain": [
       "<AxesSubplot:xlabel='date'>"
      ]
     },
     "execution_count": 19,
     "metadata": {},
     "output_type": "execute_result"
    },
    {
     "data": {
      "image/png": "[encoded data removed]",
      "text/plain": [
       "<Figure size 1152x648 with 1 Axes>"
      ]
     },
     "metadata": {
      "needs_background": "light"
     },
     "output_type": "display_data"
    }
   ],
   "source": [
    "tse_df.plot.line(y=[\"value\"], figsize=(16, 9))"
   ]
  },
  {
   "cell_type": "code",
   "execution_count": 20,
   "metadata": {},
   "outputs": [
    {
     "data": {
      "text/plain": [
       "0.22264082937440266"
      ]
     },
     "execution_count": 20,
     "metadata": {},
     "output_type": "execute_result"
    }
   ],
   "source": [
    "eu_tse_model = LinearRegression()\n",
    "\n",
    "x = quarterly_df.iloc[9:][['eu']]\n",
    "y = tse_df.iloc[:-1][['value']]\n",
    "\n",
    "eu_tse_model.fit(x, y)\n",
    "eu_tse_model.score(x, y)"
   ]
  },
  {
   "cell_type": "code",
   "execution_count": 21,
   "metadata": {},
   "outputs": [
    {
     "data": {
      "text/plain": [
       "0.20527783161123203"
      ]
     },
     "execution_count": 21,
     "metadata": {},
     "output_type": "execute_result"
    }
   ],
   "source": [
    "seu_tse_model = LinearRegression()\n",
    "\n",
    "x = quarterly_df.iloc[9:][['seu']]\n",
    "y = tse_df.iloc[:-1][['value']]\n",
    "\n",
    "seu_tse_model.fit(x, y)\n",
    "seu_tse_model.score(x, y)"
   ]
  },
  {
   "cell_type": "code",
   "execution_count": 22,
   "metadata": {},
   "outputs": [
    {
     "data": {
      "text/plain": [
       "0.0009739887483763976"
      ]
     },
     "execution_count": 22,
     "metadata": {},
     "output_type": "execute_result"
    }
   ],
   "source": [
    "pesaran_tse_model = LinearRegression()\n",
    "\n",
    "x = pesaran_df.iloc[118:-4][['s_t']]\n",
    "y = tse_df.iloc[:-12][['value']]\n",
    "\n",
    "pesaran_tse_model.fit(x, y)\n",
    "pesaran_tse_model.score(x, y)"
   ]
  },
  {
   "cell_type": "code",
   "execution_count": 23,
   "metadata": {},
   "outputs": [
    {
     "data": {
      "text/plain": [
       "================= \n",
       "ForecasterAutoreg \n",
       "================= \n",
       "Regressor: LinearRegression() \n",
       "Lags: [1] \n",
       "Transformer for y: None \n",
       "Transformer for exog: None \n",
       "Window size: 1 \n",
       "Weight function included: False \n",
       "Differentiation order: None \n",
       "Exogenous included: False \n",
       "Type of exogenous variable: None \n",
       "Exogenous variables names: None \n",
       "Training range: [Timestamp('1981-07-01 00:00:00'), Timestamp('2023-10-01 00:00:00')] \n",
       "Training index type: DatetimeIndex \n",
       "Training index frequency: QS-JAN \n",
       "Regressor parameters: {'copy_X': True, 'fit_intercept': True, 'n_jobs': None, 'positive': False} \n",
       "fit_kwargs: {} \n",
       "Creation date: 2024-02-02 14:09:38 \n",
       "Last fit date: 2024-02-02 14:09:38 \n",
       "Skforecast version: 0.10.1 \n",
       "Python version: 3.10.5 \n",
       "Forecaster id: None "
      ]
     },
     "execution_count": 23,
     "metadata": {},
     "output_type": "execute_result"
    }
   ],
   "source": [
    "#Forecast the dollar price\n",
    "y=usd_df['DollarPrice']\n",
    "forecaster = ForecasterAutoreg(\n",
    "                regressor = LinearRegression(), #Choosing the Regressor Type\n",
    "                lags      = 1 #The period or seasonality of the data\n",
    "             )\n",
    "\n",
    "forecaster.fit(y) #Giving the Data to the Forecaster\n",
    "forecaster"
   ]
  },
  {
   "cell_type": "code",
   "execution_count": 24,
   "metadata": {},
   "outputs": [
    {
     "data": {
      "text/plain": [
       "2024-01-01    547241.701951\n",
       "2024-04-01    586433.180658\n",
       "2024-07-01    628417.177281\n",
       "2024-10-01    673392.667634\n",
       "Freq: QS-JAN, Name: pred, dtype: float64"
      ]
     },
     "execution_count": 24,
     "metadata": {},
     "output_type": "execute_result"
    }
   ],
   "source": [
    "steps = 4\n",
    "predictions = forecaster.predict(steps=steps)\n",
    "predictions.head(14)"
   ]
  },
  {
   "cell_type": "code",
   "execution_count": 25,
   "metadata": {},
   "outputs": [
    {
     "name": "stdout",
     "output_type": "stream",
     "text": [
      "{'intercept': 198.76120442454703, 'coef': array([1.07125319])}\n"
     ]
    }
   ],
   "source": [
    "#forecaster.get_coef()\n",
    "params = {'intercept': forecaster.regressor.intercept_, 'coef': forecaster.regressor.coef_}\n",
    "print(params)"
   ]
  },
  {
   "cell_type": "code",
   "execution_count": 14,
   "metadata": {},
   "outputs": [],
   "source": [
    "return_m=pd.read_csv('../data/tse_history_monthly.csv')\n",
    "return_m['Date']=pd.to_datetime(return_m['Date'])\n",
    "return_m.set_index('Date',inplace=True)\n",
    "return_m = return_m.resample('QS').last()\n",
    "return_m['value_2']=return_m['value'].shift(1)\n",
    "return_m.dropna(inplace=True)\n",
    "return_m['Sum of Market Return']=(return_m['value']-return_m['value_2']).div(return_m['value_2'])\n",
    "return_s=pd.read_csv('../data/Market_Return_of_Sanctioned_Shares.csv')\n",
    "return_s['Date']=pd.to_datetime(return_s['Date'])\n",
    "return_s.set_index('Date',inplace=True)\n",
    "return_s = return_s.resample('QS').mean()\n",
    "return_e=pd.read_csv('../data/Market_Return_of_ExportOriented_Shares.csv')\n",
    "return_e['Date']=pd.to_datetime(return_e['Date'])\n",
    "return_e.set_index('Date',inplace=True)\n",
    "return_e= return_e.resample('QS').mean()"
   ]
  },
  {
   "cell_type": "code",
   "execution_count": 27,
   "metadata": {},
   "outputs": [
    {
     "name": "stdout",
     "output_type": "stream",
     "text": [
      "This model has R^2 score of 0.053912797469702234\n",
      " and Coefficent of [[0.52937133]]\n",
      " and Intercept of [-0.30688469]\n",
      " and MSE of 0.04995267847412932\n"
     ]
    }
   ],
   "source": [
    "eu_market_return_model = LinearRegression()\n",
    "\n",
    "x = quarterly_df.iloc[10:][['eu']]\n",
    "y = return_m.iloc[:-1][['Sum of Market Return']]\n",
    "\n",
    "eu_market_return_model.fit(x, y)\n",
    "eu_market_return_model.score(x, y)\n",
    "#eu_market_return_model.coef_\n",
    "#eu_market_return_model.intercept_\n",
    "print(f'This model has R^2 score of {eu_market_return_model.score(x, y)}\\n and Coefficent of {eu_market_return_model.coef_}\\n and Intercept of {eu_market_return_model.intercept_}\\n and MSE of {mean_squared_error(y,eu_market_return_model.predict(x))}')"
   ]
  },
  {
   "cell_type": "code",
   "execution_count": 28,
   "metadata": {},
   "outputs": [
    {
     "name": "stdout",
     "output_type": "stream",
     "text": [
      "This model has R^2 score of 0.006019400329772773\n",
      " and Coefficent of [[0.1948944]]\n",
      " and Intercept of [0.07487849]\n",
      " and MSE of 0.052481413100246475\n"
     ]
    }
   ],
   "source": [
    "seu_market_return_model = LinearRegression()\n",
    "\n",
    "x = quarterly_df.iloc[10:][['seu']]\n",
    "y = return_m.iloc[:-1][['Sum of Market Return']]\n",
    "\n",
    "seu_market_return_model.fit(x, y)\n",
    "seu_market_return_model.score(x, y)\n",
    "print(f'This model has R^2 score of {seu_market_return_model.score(x, y)}\\n and Coefficent of {seu_market_return_model.coef_}\\n and Intercept of {seu_market_return_model.intercept_}\\n and MSE of {mean_squared_error(y,seu_market_return_model.predict(x))}')"
   ]
  },
  {
   "cell_type": "code",
   "execution_count": 34,
   "metadata": {},
   "outputs": [
    {
     "name": "stdout",
     "output_type": "stream",
     "text": [
      "This model has R^2 score of 0.030059851499573798\n",
      " and Coefficent of [[0.19062031]]\n",
      " and Intercept of [0.06618466]\n",
      " and MSE of 0.056878677719125886\n"
     ]
    }
   ],
   "source": [
    "pesaran_market_return_model = LinearRegression()\n",
    "\n",
    "x = pesaran_df[119:166][['s_t']]\n",
    "y = return_m.iloc[:47][['Sum of Market Return']]\n",
    "\n",
    "pesaran_market_return_model.fit(x, y)\n",
    "pesaran_market_return_model.score(x, y)\n",
    "print(f'This model has R^2 score of {pesaran_market_return_model.score(x, y)}\\n and Coefficent of {pesaran_market_return_model.coef_}\\n and Intercept of {pesaran_market_return_model.intercept_}\\n and MSE of {mean_squared_error(y,pesaran_market_return_model.predict(x))}')"
   ]
  },
  {
   "cell_type": "code",
   "execution_count": 38,
   "metadata": {},
   "outputs": [
    {
     "name": "stdout",
     "output_type": "stream",
     "text": [
      "This model has R^2 score of 0.4977560524275412\n",
      " and Coefficent of [[-5.30681196]]\n",
      " and Intercept of [4.99164158]\n",
      " and MSE of 0.2553807051581894\n"
     ]
    }
   ],
   "source": [
    "eu_sanctioned_market_return_model = LinearRegression()\n",
    "\n",
    "x = quarterly_df.iloc[:][['eu']]\n",
    "y = return_s.iloc[22:-2][['Sum of Market(Percent)']]/100\n",
    "\n",
    "eu_sanctioned_market_return_model.fit(x, y)\n",
    "eu_sanctioned_market_return_model.score(x, y)\n",
    "print(f'This model has R^2 score of {eu_sanctioned_market_return_model.score(x, y)}\\n and Coefficent of {eu_sanctioned_market_return_model.coef_}\\n and Intercept of {eu_sanctioned_market_return_model.intercept_}\\n and MSE of {mean_squared_error(y,eu_sanctioned_market_return_model.predict(x))}')"
   ]
  },
  {
   "cell_type": "code",
   "execution_count": 31,
   "metadata": {},
   "outputs": [
    {
     "name": "stdout",
     "output_type": "stream",
     "text": [
      "This model has R^2 score of 0.09976808525145497\n",
      " and Coefficent of [[2.28392994]]\n",
      " and Intercept of [0.25432345]\n",
      " and MSE of 0.45774939111878993\n"
     ]
    }
   ],
   "source": [
    "seu_sanctioned_market_return_model = LinearRegression()\n",
    "\n",
    "x = quarterly_df.iloc[:][['seu']]\n",
    "y = return_s.iloc[22:-2][['Sum of Market(Percent)']]/100\n",
    "\n",
    "seu_sanctioned_market_return_model.fit(x, y)\n",
    "seu_sanctioned_market_return_model.score(x, y)\n",
    "print(f'This model has R^2 score of {seu_sanctioned_market_return_model.score(x, y)}\\n and Coefficent of {seu_sanctioned_market_return_model.coef_}\\n and Intercept of {seu_sanctioned_market_return_model.intercept_}\\n and MSE of {mean_squared_error(y,seu_sanctioned_market_return_model.predict(x))}')"
   ]
  },
  {
   "cell_type": "code",
   "execution_count": 32,
   "metadata": {},
   "outputs": [
    {
     "name": "stdout",
     "output_type": "stream",
     "text": [
      "This model has R^2 score of 0.08213970007219151\n",
      " and Coefficent of [[-0.10791728]]\n",
      " and Intercept of [0.13412001]\n",
      " and MSE of 0.006260879973649912\n"
     ]
    }
   ],
   "source": [
    "pesaran_sanctioned_market_return_model = LinearRegression()\n",
    "\n",
    "x = pesaran_df[118:166][['s_t']]\n",
    "y = return_s.iloc[:48][['Sum of Market(Percent)']]/100\n",
    "\n",
    "pesaran_sanctioned_market_return_model.fit(x, y)\n",
    "pesaran_sanctioned_market_return_model.score(x, y)\n",
    "print(f'This model has R^2 score of {pesaran_sanctioned_market_return_model.score(x, y)}\\n and Coefficent of {pesaran_sanctioned_market_return_model.coef_}\\n and Intercept of {pesaran_sanctioned_market_return_model.intercept_}\\n and MSE of {mean_squared_error(y,pesaran_sanctioned_market_return_model.predict(x))}')"
   ]
  },
  {
   "cell_type": "code",
   "execution_count": 33,
   "metadata": {},
   "outputs": [
    {
     "name": "stdout",
     "output_type": "stream",
     "text": [
      "This model has R^2 score of 0.08958546861734462\n",
      " and Coefficent of [[-0.26723787]]\n",
      " and Intercept of [0.38862972]\n",
      " and MSE of 0.006522590972848445\n"
     ]
    }
   ],
   "source": [
    "eu_export_market_return_model = LinearRegression()\n",
    "\n",
    "x = quarterly_df.iloc[:][['eu']]\n",
    "y = return_e.iloc[22:-2][['Sum of Market(Percent)']]/100\n",
    "\n",
    "eu_export_market_return_model.fit(x, y)\n",
    "eu_export_market_return_model.score(x, y)\n",
    "print(f'This model has R^2 score of {eu_export_market_return_model.score(x, y)}\\n and Coefficent of {eu_export_market_return_model.coef_}\\n and Intercept of {eu_export_market_return_model.intercept_}\\n and MSE of {mean_squared_error(y,eu_export_market_return_model.predict(x))}')"
   ]
  },
  {
   "cell_type": "code",
   "execution_count": 34,
   "metadata": {},
   "outputs": [
    {
     "name": "stdout",
     "output_type": "stream",
     "text": [
      "This model has R^2 score of 0.029280108428545226\n",
      " and Coefficent of [[-0.14686797]]\n",
      " and Intercept of [0.2022182]\n",
      " and MSE of 0.006954643828358624\n"
     ]
    }
   ],
   "source": [
    "seu_export_market_return_model = LinearRegression()\n",
    "\n",
    "x = quarterly_df.iloc[:][['seu']]\n",
    "y = return_e.iloc[22:-2][['Sum of Market(Percent)']]/100\n",
    "\n",
    "seu_export_market_return_model.fit(x, y)\n",
    "seu_export_market_return_model.score(x, y)\n",
    "print(f'This model has R^2 score of {seu_export_market_return_model.score(x, y)}\\n and Coefficent of {seu_export_market_return_model.coef_}\\n and Intercept of {seu_export_market_return_model.intercept_}\\n and MSE of {mean_squared_error(y,seu_export_market_return_model.predict(x))}')"
   ]
  },
  {
   "cell_type": "code",
   "execution_count": 35,
   "metadata": {},
   "outputs": [
    {
     "name": "stdout",
     "output_type": "stream",
     "text": [
      "This model has R^2 score of 0.03471493651454116\n",
      " and Coefficent of [[0.08050089]]\n",
      " and Intercept of [0.09794917]\n",
      " and MSE of 0.008669030641735919\n"
     ]
    }
   ],
   "source": [
    "pesaran_export_market_return_model = LinearRegression()\n",
    "\n",
    "x = pesaran_df[118:166][['s_t']]\n",
    "y = return_e.iloc[:48][['Sum of Market(Percent)']]/100\n",
    "\n",
    "pesaran_export_market_return_model.fit(x, y)\n",
    "pesaran_export_market_return_model.score(x, y)\n",
    "print(f'This model has R^2 score of {pesaran_export_market_return_model.score(x, y)}\\n and Coefficent of {pesaran_export_market_return_model.coef_}\\n and Intercept of {pesaran_export_market_return_model.intercept_}\\n and MSE of {mean_squared_error(y,pesaran_export_market_return_model.predict(x))}')"
   ]
  },
  {
   "cell_type": "code",
   "execution_count": 36,
   "metadata": {},
   "outputs": [
    {
     "name": "stdout",
     "output_type": "stream",
     "text": [
      "This model has R^2 score of 0.2845566588004297\n",
      " and Coefficent of [[-4.39243804e-07]]\n",
      " and Intercept of [0.30967558]\n",
      " and MSE of 0.009016792469533842\n"
     ]
    }
   ],
   "source": [
    "dollar_market_return_model = LinearRegression()\n",
    "\n",
    "x = usd_df.iloc[109:][['DollarPrice']]\n",
    "y = return_m.iloc[:][['Sum of Market Return']]\n",
    "\n",
    "dollar_market_return_model.fit(x, y)\n",
    "dollar_market_return_model.score(x, y)\n",
    "#eu_market_return_model.coef_\n",
    "#eu_market_return_model.intercept_\n",
    "print(f'This model has R^2 score of {dollar_market_return_model.score(x, y)}\\n and Coefficent of {dollar_market_return_model.coef_}\\n and Intercept of {dollar_market_return_model.intercept_}\\n and MSE of {mean_squared_error(y,dollar_market_return_model.predict(x))}')"
   ]
  },
  {
   "cell_type": "code",
   "execution_count": 37,
   "metadata": {},
   "outputs": [
    {
     "name": "stdout",
     "output_type": "stream",
     "text": [
      "This model has R^2 score of 0.0064114998993098915\n",
      " and Coefficent of [[-4.4941588e-07]]\n",
      " and Intercept of [0.57087981]\n",
      " and MSE of 0.45806624246079763\n"
     ]
    }
   ],
   "source": [
    "dollar_sanctioned_market_return_model = LinearRegression()\n",
    "\n",
    "x = usd_df.iloc[-92:][['DollarPrice']]\n",
    "y = return_s.iloc[:][['Sum of Market(Percent)']]/100\n",
    "\n",
    "dollar_sanctioned_market_return_model.fit(x, y)\n",
    "dollar_sanctioned_market_return_model.score(x, y)\n",
    "print(f'This model has R^2 score of {dollar_sanctioned_market_return_model.score(x, y)}\\n and Coefficent of {dollar_sanctioned_market_return_model.coef_}\\n and Intercept of {dollar_sanctioned_market_return_model.intercept_}\\n and MSE of {mean_squared_error(y,dollar_sanctioned_market_return_model.predict(x))}')"
   ]
  },
  {
   "cell_type": "code",
   "execution_count": 38,
   "metadata": {},
   "outputs": [
    {
     "name": "stdout",
     "output_type": "stream",
     "text": [
      "This model has R^2 score of 0.0008899421507668759\n",
      " and Coefficent of [[-2.20414606e-08]]\n",
      " and Intercept of [0.1448426]\n",
      " and MSE of 0.00798209396120861\n"
     ]
    }
   ],
   "source": [
    "dollar_export_market_return_model = LinearRegression()\n",
    "\n",
    "x = usd_df.iloc[-92:][['DollarPrice']]\n",
    "y = return_e.iloc[:][['Sum of Market(Percent)']]/100\n",
    "\n",
    "dollar_export_market_return_model.fit(x, y)\n",
    "dollar_export_market_return_model.score(x, y)\n",
    "print(f'This model has R^2 score of {dollar_export_market_return_model.score(x, y)}\\n and Coefficent of {dollar_export_market_return_model.coef_}\\n and Intercept of {dollar_export_market_return_model.intercept_}\\n and MSE of {mean_squared_error(y,dollar_export_market_return_model.predict(x))}')"
   ]
  },
  {
   "cell_type": "code",
   "execution_count": 40,
   "metadata": {},
   "outputs": [
    {
     "name": "stdout",
     "output_type": "stream",
     "text": [
      "Iteration:      1,   Func. Count:      6,   Neg. LLF: 2799450.0242033494\n",
      "Iteration:      2,   Func. Count:     14,   Neg. LLF: 621170.9621537804\n",
      "Iteration:      3,   Func. Count:     21,   Neg. LLF: 54.47367025911879\n",
      "Iteration:      4,   Func. Count:     29,   Neg. LLF: -13.945715037488682\n",
      "Iteration:      5,   Func. Count:     34,   Neg. LLF: -15.179039581867169\n",
      "Iteration:      6,   Func. Count:     39,   Neg. LLF: -15.198468086396831\n",
      "Iteration:      7,   Func. Count:     44,   Neg. LLF: -15.22103210212899\n",
      "Iteration:      8,   Func. Count:     49,   Neg. LLF: -15.235771903719817\n",
      "Iteration:      9,   Func. Count:     54,   Neg. LLF: -15.239610795630552\n",
      "Iteration:     10,   Func. Count:     59,   Neg. LLF: -15.240277722909576\n",
      "Iteration:     11,   Func. Count:     64,   Neg. LLF: -15.240288657542411\n",
      "Iteration:     12,   Func. Count:     68,   Neg. LLF: -15.240288618098628\n",
      "Optimization terminated successfully    (Exit mode 0)\n",
      "            Current function value: -15.240288657542411\n",
      "            Iterations: 12\n",
      "            Function evaluations: 68\n",
      "            Gradient evaluations: 12\n",
      "                            OLS Regression Results                            \n",
      "==============================================================================\n",
      "Dep. Variable:               cond_vol   R-squared:                       0.014\n",
      "Model:                            OLS   Adj. R-squared:                 -0.003\n",
      "Method:                 Least Squares   F-statistic:                    0.8236\n",
      "Date:                Sun, 04 Feb 2024   Prob (F-statistic):              0.368\n",
      "Time:                        16:23:10   Log-Likelihood:                 65.163\n",
      "No. Observations:                  58   AIC:                            -126.3\n",
      "Df Residuals:                      56   BIC:                            -122.2\n",
      "Df Model:                           1                                         \n",
      "Covariance Type:            nonrobust                                         \n",
      "==============================================================================\n",
      "                 coef    std err          t      P>|t|      [0.025      0.975]\n",
      "------------------------------------------------------------------------------\n",
      "const          0.1226      0.084      1.454      0.152      -0.046       0.292\n",
      "eu             0.0947      0.104      0.907      0.368      -0.114       0.304\n",
      "==============================================================================\n",
      "Omnibus:                       47.760   Durbin-Watson:                   2.033\n",
      "Prob(Omnibus):                  0.000   Jarque-Bera (JB):              164.363\n",
      "Skew:                           2.445   Prob(JB):                     2.04e-36\n",
      "Kurtosis:                       9.641   Cond. No.                         16.3\n",
      "==============================================================================\n",
      "\n",
      "Notes:\n",
      "[1] Standard Errors assume that the covariance matrix of the errors is correctly specified.\n"
     ]
    }
   ],
   "source": [
    "#Market Return and EU\n",
    "\n",
    "# Fit eGARCH model\n",
    "model = arch_model(return_m['Sum of Market Return'], vol='EGARCH', p=1, q=1)\n",
    "results_egarch = model.fit()\n",
    "# Display model summary\n",
    "#print(results.summary())\n",
    "#f.mean.dropna()\n",
    "conditional_volatility = results_egarch.conditional_volatility\n",
    "\n",
    "# Perform linear regression\n",
    "X = quarterly_df.iloc[10:][['eu']]  # Independent variable\n",
    "y = conditional_volatility.iloc[:-1] # Dependent variable\n",
    "X = sm.add_constant(X)  # Add a constant for the intercept term\n",
    "model = sm.OLS(y, X)\n",
    "results_regression = model.fit()\n",
    "\n",
    "# Print regression results\n",
    "print(results_regression.summary())"
   ]
  },
  {
   "cell_type": "code",
   "execution_count": 41,
   "metadata": {},
   "outputs": [
    {
     "name": "stdout",
     "output_type": "stream",
     "text": [
      "Iteration:      1,   Func. Count:      6,   Neg. LLF: 2799450.0242033494\n",
      "Iteration:      2,   Func. Count:     14,   Neg. LLF: 621170.9621537804\n",
      "Iteration:      3,   Func. Count:     21,   Neg. LLF: 54.47367025911879\n",
      "Iteration:      4,   Func. Count:     29,   Neg. LLF: -13.945715037488682\n",
      "Iteration:      5,   Func. Count:     34,   Neg. LLF: -15.179039581867169\n",
      "Iteration:      6,   Func. Count:     39,   Neg. LLF: -15.198468086396831\n",
      "Iteration:      7,   Func. Count:     44,   Neg. LLF: -15.22103210212899\n",
      "Iteration:      8,   Func. Count:     49,   Neg. LLF: -15.235771903719817\n",
      "Iteration:      9,   Func. Count:     54,   Neg. LLF: -15.239610795630552\n",
      "Iteration:     10,   Func. Count:     59,   Neg. LLF: -15.240277722909576\n",
      "Iteration:     11,   Func. Count:     64,   Neg. LLF: -15.240288657542411\n",
      "Iteration:     12,   Func. Count:     68,   Neg. LLF: -15.240288618098628\n",
      "Optimization terminated successfully    (Exit mode 0)\n",
      "            Current function value: -15.240288657542411\n",
      "            Iterations: 12\n",
      "            Function evaluations: 68\n",
      "            Gradient evaluations: 12\n",
      "                            OLS Regression Results                            \n",
      "==============================================================================\n",
      "Dep. Variable:               cond_vol   R-squared:                       0.035\n",
      "Model:                            OLS   Adj. R-squared:                  0.017\n",
      "Method:                 Least Squares   F-statistic:                     2.005\n",
      "Date:                Sun, 04 Feb 2024   Prob (F-statistic):              0.162\n",
      "Time:                        16:26:03   Log-Likelihood:                 65.759\n",
      "No. Observations:                  58   AIC:                            -127.5\n",
      "Df Residuals:                      56   BIC:                            -123.4\n",
      "Df Model:                           1                                         \n",
      "Covariance Type:            nonrobust                                         \n",
      "==============================================================================\n",
      "                 coef    std err          t      P>|t|      [0.025      0.975]\n",
      "------------------------------------------------------------------------------\n",
      "const          0.1631      0.027      6.025      0.000       0.109       0.217\n",
      "seu            0.1611      0.114      1.416      0.162      -0.067       0.389\n",
      "==============================================================================\n",
      "Omnibus:                       47.930   Durbin-Watson:                   2.082\n",
      "Prob(Omnibus):                  0.000   Jarque-Bera (JB):              163.606\n",
      "Skew:                           2.464   Prob(JB):                     2.98e-36\n",
      "Kurtosis:                       9.589   Cond. No.                         11.5\n",
      "==============================================================================\n",
      "\n",
      "Notes:\n",
      "[1] Standard Errors assume that the covariance matrix of the errors is correctly specified.\n"
     ]
    }
   ],
   "source": [
    "#Market Return and SEU\n",
    "\n",
    "model = arch_model(return_m['Sum of Market Return'], vol='EGARCH', p=1, q=1)\n",
    "results_egarch = model.fit()\n",
    "conditional_volatility = results_egarch.conditional_volatility\n",
    "\n",
    "X = quarterly_df.iloc[10:][['seu']]  \n",
    "y = conditional_volatility.iloc[:-1] \n",
    "X = sm.add_constant(X)  \n",
    "model = sm.OLS(y, X)\n",
    "results_regression = model.fit()\n",
    "\n",
    "print(results_regression.summary())"
   ]
  },
  {
   "cell_type": "code",
   "execution_count": 45,
   "metadata": {},
   "outputs": [
    {
     "name": "stdout",
     "output_type": "stream",
     "text": [
      "Iteration:      1,   Func. Count:      6,   Neg. LLF: 2799450.0242033494\n",
      "Iteration:      2,   Func. Count:     14,   Neg. LLF: 621170.9621537804\n",
      "Iteration:      3,   Func. Count:     21,   Neg. LLF: 54.47367025911879\n",
      "Iteration:      4,   Func. Count:     29,   Neg. LLF: -13.945715037488682\n",
      "Iteration:      5,   Func. Count:     34,   Neg. LLF: -15.179039581867169\n",
      "Iteration:      6,   Func. Count:     39,   Neg. LLF: -15.198468086396831\n",
      "Iteration:      7,   Func. Count:     44,   Neg. LLF: -15.22103210212899\n",
      "Iteration:      8,   Func. Count:     49,   Neg. LLF: -15.235771903719817\n",
      "Iteration:      9,   Func. Count:     54,   Neg. LLF: -15.239610795630552\n",
      "Iteration:     10,   Func. Count:     59,   Neg. LLF: -15.240277722909576\n",
      "Iteration:     11,   Func. Count:     64,   Neg. LLF: -15.240288657542411\n",
      "Iteration:     12,   Func. Count:     68,   Neg. LLF: -15.240288618098628\n",
      "Optimization terminated successfully    (Exit mode 0)\n",
      "            Current function value: -15.240288657542411\n",
      "            Iterations: 12\n",
      "            Function evaluations: 68\n",
      "            Gradient evaluations: 12\n",
      "                            OLS Regression Results                            \n",
      "==============================================================================\n",
      "Dep. Variable:               cond_vol   R-squared:                       0.005\n",
      "Model:                            OLS   Adj. R-squared:                 -0.017\n",
      "Method:                 Least Squares   F-statistic:                    0.2397\n",
      "Date:                Sun, 04 Feb 2024   Prob (F-statistic):              0.627\n",
      "Time:                        16:29:34   Log-Likelihood:                 48.800\n",
      "No. Observations:                  47   AIC:                            -93.60\n",
      "Df Residuals:                      45   BIC:                            -89.90\n",
      "Df Model:                           1                                         \n",
      "Covariance Type:            nonrobust                                         \n",
      "==============================================================================\n",
      "                 coef    std err          t      P>|t|      [0.025      0.975]\n",
      "------------------------------------------------------------------------------\n",
      "const          0.1894      0.025      7.620      0.000       0.139       0.240\n",
      "s_t            0.0284      0.058      0.490      0.627      -0.088       0.145\n",
      "==============================================================================\n",
      "Omnibus:                       41.836   Durbin-Watson:                   1.735\n",
      "Prob(Omnibus):                  0.000   Jarque-Bera (JB):              120.704\n",
      "Skew:                           2.495   Prob(JB):                     6.16e-27\n",
      "Kurtosis:                       9.061   Cond. No.                         5.18\n",
      "==============================================================================\n",
      "\n",
      "Notes:\n",
      "[1] Standard Errors assume that the covariance matrix of the errors is correctly specified.\n"
     ]
    }
   ],
   "source": [
    "#Market Return and LT\n",
    "\n",
    "model = arch_model(return_m['Sum of Market Return'], vol='EGARCH', p=1, q=1)\n",
    "results_egarch = model.fit()\n",
    "conditional_volatility = results_egarch.conditional_volatility\n",
    "\n",
    "X = pesaran_df[119:166][['s_t']]\n",
    "y = conditional_volatility.iloc[:47] \n",
    "X = sm.add_constant(X)  \n",
    "model = sm.OLS(y, X)\n",
    "results_regression = model.fit()\n",
    "\n",
    "print(results_regression.summary())"
   ]
  },
  {
   "cell_type": "code",
   "execution_count": 42,
   "metadata": {},
   "outputs": [
    {
     "name": "stdout",
     "output_type": "stream",
     "text": [
      "Iteration:      1,   Func. Count:      6,   Neg. LLF: 28321732.56507575\n",
      "Iteration:      2,   Func. Count:     14,   Neg. LLF: 21994830.384475753\n",
      "Iteration:      3,   Func. Count:     23,   Neg. LLF: 511.09776717225475\n",
      "Iteration:      4,   Func. Count:     30,   Neg. LLF: 506.17926712500764\n",
      "Iteration:      5,   Func. Count:     35,   Neg. LLF: 504.5905061461893\n",
      "Iteration:      6,   Func. Count:     40,   Neg. LLF: 497.35620552877026\n",
      "Iteration:      7,   Func. Count:     45,   Neg. LLF: 493.9601178778995\n",
      "Iteration:      8,   Func. Count:     50,   Neg. LLF: 481.5852423218886\n",
      "Iteration:      9,   Func. Count:     55,   Neg. LLF: 505.99547069098975\n",
      "Iteration:     10,   Func. Count:     61,   Neg. LLF: 485.26929601852953\n",
      "Iteration:     11,   Func. Count:     69,   Neg. LLF: 449.88536635716684\n",
      "Iteration:     12,   Func. Count:     75,   Neg. LLF: 425.1933841564746\n",
      "Iteration:     13,   Func. Count:     80,   Neg. LLF: 423.7475129171407\n",
      "Iteration:     14,   Func. Count:     86,   Neg. LLF: 411.4814243345752\n",
      "Iteration:     15,   Func. Count:     91,   Neg. LLF: 428.04946863485867\n",
      "Iteration:     16,   Func. Count:     97,   Neg. LLF: 411.5898586755446\n",
      "Iteration:     17,   Func. Count:    103,   Neg. LLF: 407.06012739117205\n",
      "Iteration:     18,   Func. Count:    108,   Neg. LLF: 407.01888490514165\n",
      "Iteration:     19,   Func. Count:    113,   Neg. LLF: 407.0028758748843\n",
      "Iteration:     20,   Func. Count:    118,   Neg. LLF: 406.97237013483175\n",
      "Iteration:     21,   Func. Count:    123,   Neg. LLF: 406.96877687643786\n",
      "Iteration:     22,   Func. Count:    128,   Neg. LLF: 406.9682663243329\n",
      "Iteration:     23,   Func. Count:    133,   Neg. LLF: 406.96803953292425\n",
      "Iteration:     24,   Func. Count:    138,   Neg. LLF: 406.96758365636964\n",
      "Iteration:     25,   Func. Count:    143,   Neg. LLF: 406.96715288860315\n",
      "Iteration:     26,   Func. Count:    148,   Neg. LLF: 406.9669253845749\n",
      "Iteration:     27,   Func. Count:    153,   Neg. LLF: 406.9668866439257\n",
      "Iteration:     28,   Func. Count:    158,   Neg. LLF: 406.96688454006716\n",
      "Iteration:     29,   Func. Count:    162,   Neg. LLF: 406.96688453994307\n",
      "Optimization terminated successfully    (Exit mode 0)\n",
      "            Current function value: 406.96688454006716\n",
      "            Iterations: 29\n",
      "            Function evaluations: 162\n",
      "            Gradient evaluations: 29\n",
      "                            OLS Regression Results                            \n",
      "==============================================================================\n",
      "Dep. Variable:               cond_vol   R-squared:                       0.465\n",
      "Model:                            OLS   Adj. R-squared:                  0.457\n",
      "Method:                 Least Squares   F-statistic:                     57.43\n",
      "Date:                Fri, 02 Feb 2024   Prob (F-statistic):           1.50e-10\n",
      "Time:                        14:09:51   Log-Likelihood:                -356.68\n",
      "No. Observations:                  68   AIC:                             717.4\n",
      "Df Residuals:                      66   BIC:                             721.8\n",
      "Df Model:                           1                                         \n",
      "Covariance Type:            nonrobust                                         \n",
      "==============================================================================\n",
      "                 coef    std err          t      P>|t|      [0.025      0.975]\n",
      "------------------------------------------------------------------------------\n",
      "const        421.7461     48.420      8.710      0.000     325.072     518.420\n",
      "eu          -451.6129     59.591     -7.578      0.000    -570.591    -332.635\n",
      "==============================================================================\n",
      "Omnibus:                       26.480   Durbin-Watson:                   0.660\n",
      "Prob(Omnibus):                  0.000   Jarque-Bera (JB):               43.364\n",
      "Skew:                           1.458   Prob(JB):                     3.83e-10\n",
      "Kurtosis:                       5.609   Cond. No.                         17.5\n",
      "==============================================================================\n",
      "\n",
      "Notes:\n",
      "[1] Standard Errors assume that the covariance matrix of the errors is correctly specified.\n"
     ]
    }
   ],
   "source": [
    "#Sanctioned Market Return and EU\n",
    "\n",
    "model = arch_model(return_s['Sum of Market(Percent)'], vol='EGARCH', p=1, q=1)\n",
    "results_egarch = model.fit()\n",
    "conditional_volatility = results_egarch.conditional_volatility\n",
    "\n",
    "X = quarterly_df.iloc[:][['eu']]  \n",
    "y = conditional_volatility.iloc[22:-2] \n",
    "X = sm.add_constant(X)  \n",
    "model = sm.OLS(y, X)\n",
    "results_regression = model.fit()\n",
    "\n",
    "print(results_regression.summary())"
   ]
  },
  {
   "cell_type": "code",
   "execution_count": 43,
   "metadata": {},
   "outputs": [
    {
     "name": "stdout",
     "output_type": "stream",
     "text": [
      "Iteration:      1,   Func. Count:      6,   Neg. LLF: 28321732.56507575\n",
      "Iteration:      2,   Func. Count:     14,   Neg. LLF: 21994830.384475753\n",
      "Iteration:      3,   Func. Count:     23,   Neg. LLF: 511.09776717225475\n",
      "Iteration:      4,   Func. Count:     30,   Neg. LLF: 506.17926712500764\n",
      "Iteration:      5,   Func. Count:     35,   Neg. LLF: 504.5905061461893\n",
      "Iteration:      6,   Func. Count:     40,   Neg. LLF: 497.35620552877026\n",
      "Iteration:      7,   Func. Count:     45,   Neg. LLF: 493.9601178778995\n",
      "Iteration:      8,   Func. Count:     50,   Neg. LLF: 481.5852423218886\n",
      "Iteration:      9,   Func. Count:     55,   Neg. LLF: 505.99547069098975\n",
      "Iteration:     10,   Func. Count:     61,   Neg. LLF: 485.26929601852953\n",
      "Iteration:     11,   Func. Count:     69,   Neg. LLF: 449.88536635716684\n",
      "Iteration:     12,   Func. Count:     75,   Neg. LLF: 425.1933841564746\n",
      "Iteration:     13,   Func. Count:     80,   Neg. LLF: 423.7475129171407\n",
      "Iteration:     14,   Func. Count:     86,   Neg. LLF: 411.4814243345752\n",
      "Iteration:     15,   Func. Count:     91,   Neg. LLF: 428.04946863485867\n",
      "Iteration:     16,   Func. Count:     97,   Neg. LLF: 411.5898586755446\n",
      "Iteration:     17,   Func. Count:    103,   Neg. LLF: 407.06012739117205\n",
      "Iteration:     18,   Func. Count:    108,   Neg. LLF: 407.01888490514165\n",
      "Iteration:     19,   Func. Count:    113,   Neg. LLF: 407.0028758748843\n",
      "Iteration:     20,   Func. Count:    118,   Neg. LLF: 406.97237013483175\n",
      "Iteration:     21,   Func. Count:    123,   Neg. LLF: 406.96877687643786\n",
      "Iteration:     22,   Func. Count:    128,   Neg. LLF: 406.9682663243329\n",
      "Iteration:     23,   Func. Count:    133,   Neg. LLF: 406.96803953292425\n",
      "Iteration:     24,   Func. Count:    138,   Neg. LLF: 406.96758365636964\n",
      "Iteration:     25,   Func. Count:    143,   Neg. LLF: 406.96715288860315\n",
      "Iteration:     26,   Func. Count:    148,   Neg. LLF: 406.9669253845749\n",
      "Iteration:     27,   Func. Count:    153,   Neg. LLF: 406.9668866439257\n",
      "Iteration:     28,   Func. Count:    158,   Neg. LLF: 406.96688454006716\n",
      "Iteration:     29,   Func. Count:    162,   Neg. LLF: 406.96688453994307\n",
      "Optimization terminated successfully    (Exit mode 0)\n",
      "            Current function value: 406.96688454006716\n",
      "            Iterations: 29\n",
      "            Function evaluations: 162\n",
      "            Gradient evaluations: 29\n",
      "                            OLS Regression Results                            \n",
      "==============================================================================\n",
      "Dep. Variable:               cond_vol   R-squared:                       0.113\n",
      "Model:                            OLS   Adj. R-squared:                  0.100\n",
      "Method:                 Least Squares   F-statistic:                     8.423\n",
      "Date:                Fri, 02 Feb 2024   Prob (F-statistic):            0.00503\n",
      "Time:                        14:09:52   Log-Likelihood:                -373.88\n",
      "No. Observations:                  68   AIC:                             751.8\n",
      "Df Residuals:                      66   BIC:                             756.2\n",
      "Df Model:                           1                                         \n",
      "Covariance Type:            nonrobust                                         \n",
      "==============================================================================\n",
      "                 coef    std err          t      P>|t|      [0.025      0.975]\n",
      "------------------------------------------------------------------------------\n",
      "const         14.6648     16.394      0.895      0.374     -18.066      47.396\n",
      "seu          214.1128     73.775      2.902      0.005      66.817     361.409\n",
      "==============================================================================\n",
      "Omnibus:                        9.850   Durbin-Watson:                   0.406\n",
      "Prob(Omnibus):                  0.007   Jarque-Bera (JB):                9.801\n",
      "Skew:                           0.905   Prob(JB):                      0.00744\n",
      "Kurtosis:                       3.431   Cond. No.                         10.5\n",
      "==============================================================================\n",
      "\n",
      "Notes:\n",
      "[1] Standard Errors assume that the covariance matrix of the errors is correctly specified.\n"
     ]
    }
   ],
   "source": [
    "#Sanctioned Market Return and SEU\n",
    "\n",
    "model = arch_model(return_s['Sum of Market(Percent)'], vol='EGARCH', p=1, q=1)\n",
    "results_egarch = model.fit()\n",
    "conditional_volatility = results_egarch.conditional_volatility\n",
    "\n",
    "X = quarterly_df.iloc[:][['seu']]  \n",
    "y = conditional_volatility.iloc[22:-2] \n",
    "X = sm.add_constant(X)  \n",
    "model = sm.OLS(y, X)\n",
    "results_regression = model.fit()\n",
    "\n",
    "print(results_regression.summary())"
   ]
  },
  {
   "cell_type": "code",
   "execution_count": 44,
   "metadata": {},
   "outputs": [
    {
     "name": "stdout",
     "output_type": "stream",
     "text": [
      "Iteration:      1,   Func. Count:      6,   Neg. LLF: 28321732.56507575\n",
      "Iteration:      2,   Func. Count:     14,   Neg. LLF: 21994830.384475753\n",
      "Iteration:      3,   Func. Count:     23,   Neg. LLF: 511.09776717225475\n",
      "Iteration:      4,   Func. Count:     30,   Neg. LLF: 506.17926712500764\n",
      "Iteration:      5,   Func. Count:     35,   Neg. LLF: 504.5905061461893\n",
      "Iteration:      6,   Func. Count:     40,   Neg. LLF: 497.35620552877026\n",
      "Iteration:      7,   Func. Count:     45,   Neg. LLF: 493.9601178778995\n",
      "Iteration:      8,   Func. Count:     50,   Neg. LLF: 481.5852423218886\n",
      "Iteration:      9,   Func. Count:     55,   Neg. LLF: 505.99547069098975\n",
      "Iteration:     10,   Func. Count:     61,   Neg. LLF: 485.26929601852953\n",
      "Iteration:     11,   Func. Count:     69,   Neg. LLF: 449.88536635716684\n",
      "Iteration:     12,   Func. Count:     75,   Neg. LLF: 425.1933841564746\n",
      "Iteration:     13,   Func. Count:     80,   Neg. LLF: 423.7475129171407\n",
      "Iteration:     14,   Func. Count:     86,   Neg. LLF: 411.4814243345752\n",
      "Iteration:     15,   Func. Count:     91,   Neg. LLF: 428.04946863485867\n",
      "Iteration:     16,   Func. Count:     97,   Neg. LLF: 411.5898586755446\n",
      "Iteration:     17,   Func. Count:    103,   Neg. LLF: 407.06012739117205\n",
      "Iteration:     18,   Func. Count:    108,   Neg. LLF: 407.01888490514165\n",
      "Iteration:     19,   Func. Count:    113,   Neg. LLF: 407.0028758748843\n",
      "Iteration:     20,   Func. Count:    118,   Neg. LLF: 406.97237013483175\n",
      "Iteration:     21,   Func. Count:    123,   Neg. LLF: 406.96877687643786\n",
      "Iteration:     22,   Func. Count:    128,   Neg. LLF: 406.9682663243329\n",
      "Iteration:     23,   Func. Count:    133,   Neg. LLF: 406.96803953292425\n",
      "Iteration:     24,   Func. Count:    138,   Neg. LLF: 406.96758365636964\n",
      "Iteration:     25,   Func. Count:    143,   Neg. LLF: 406.96715288860315\n",
      "Iteration:     26,   Func. Count:    148,   Neg. LLF: 406.9669253845749\n",
      "Iteration:     27,   Func. Count:    153,   Neg. LLF: 406.9668866439257\n",
      "Iteration:     28,   Func. Count:    158,   Neg. LLF: 406.96688454006716\n",
      "Iteration:     29,   Func. Count:    162,   Neg. LLF: 406.96688453994307\n",
      "Optimization terminated successfully    (Exit mode 0)\n",
      "            Current function value: 406.96688454006716\n",
      "            Iterations: 29\n",
      "            Function evaluations: 162\n",
      "            Gradient evaluations: 29\n",
      "                            OLS Regression Results                            \n",
      "==============================================================================\n",
      "Dep. Variable:               cond_vol   R-squared:                       0.001\n",
      "Model:                            OLS   Adj. R-squared:                 -0.012\n",
      "Method:                 Least Squares   F-statistic:                   0.05707\n",
      "Date:                Fri, 02 Feb 2024   Prob (F-statistic):              0.812\n",
      "Time:                        14:09:52   Log-Likelihood:                -435.27\n",
      "No. Observations:                  79   AIC:                             874.5\n",
      "Df Residuals:                      77   BIC:                             879.3\n",
      "Df Model:                           1                                         \n",
      "Covariance Type:            nonrobust                                         \n",
      "==============================================================================\n",
      "                 coef    std err          t      P>|t|      [0.025      0.975]\n",
      "------------------------------------------------------------------------------\n",
      "const         54.4247     12.693      4.288      0.000      29.150      79.700\n",
      "s_t           -8.1837     34.257     -0.239      0.812     -76.398      60.031\n",
      "==============================================================================\n",
      "Omnibus:                       13.631   Durbin-Watson:                   0.287\n",
      "Prob(Omnibus):                  0.001   Jarque-Bera (JB):               15.928\n",
      "Skew:                           1.099   Prob(JB):                     0.000348\n",
      "Kurtosis:                       3.080   Cond. No.                         5.54\n",
      "==============================================================================\n",
      "\n",
      "Notes:\n",
      "[1] Standard Errors assume that the covariance matrix of the errors is correctly specified.\n"
     ]
    }
   ],
   "source": [
    "#Sanctioned Market Return and LT\n",
    "\n",
    "model = arch_model(return_s['Sum of Market(Percent)'], vol='EGARCH', p=1, q=1)\n",
    "results_egarch = model.fit()\n",
    "conditional_volatility = results_egarch.conditional_volatility\n",
    "\n",
    "X = pesaran_df[87:166][['s_t']]\n",
    "y = conditional_volatility.iloc[:-13] \n",
    "X = sm.add_constant(X)  \n",
    "model = sm.OLS(y, X)\n",
    "results_regression = model.fit()\n",
    "\n",
    "print(results_regression.summary())"
   ]
  },
  {
   "cell_type": "code",
   "execution_count": 45,
   "metadata": {},
   "outputs": [
    {
     "name": "stdout",
     "output_type": "stream",
     "text": [
      "Iteration:      1,   Func. Count:      6,   Neg. LLF: 27525194.43175646\n",
      "Iteration:      2,   Func. Count:     13,   Neg. LLF: 485.01570802281094\n",
      "Iteration:      3,   Func. Count:     21,   Neg. LLF: 331.16456195440327\n",
      "Iteration:      4,   Func. Count:     27,   Neg. LLF: 340.88920102726456\n",
      "Iteration:      5,   Func. Count:     33,   Neg. LLF: 335.94193329214045\n",
      "Iteration:      6,   Func. Count:     39,   Neg. LLF: 314.7030446609096\n",
      "Iteration:      7,   Func. Count:     45,   Neg. LLF: 313.4384234705435\n",
      "Iteration:      8,   Func. Count:     50,   Neg. LLF: 313.4060814373626\n",
      "Iteration:      9,   Func. Count:     55,   Neg. LLF: 313.40204073455766\n",
      "Iteration:     10,   Func. Count:     60,   Neg. LLF: 313.4010037782655\n",
      "Iteration:     11,   Func. Count:     65,   Neg. LLF: 313.4009370063145\n",
      "Iteration:     12,   Func. Count:     70,   Neg. LLF: 313.40093292475746\n",
      "Iteration:     13,   Func. Count:     74,   Neg. LLF: 313.40093292471204\n",
      "Optimization terminated successfully    (Exit mode 0)\n",
      "            Current function value: 313.40093292475746\n",
      "            Iterations: 13\n",
      "            Function evaluations: 74\n",
      "            Gradient evaluations: 13\n",
      "                            OLS Regression Results                            \n",
      "==============================================================================\n",
      "Dep. Variable:               cond_vol   R-squared:                       0.041\n",
      "Model:                            OLS   Adj. R-squared:                  0.026\n",
      "Method:                 Least Squares   F-statistic:                     2.794\n",
      "Date:                Fri, 02 Feb 2024   Prob (F-statistic):             0.0993\n",
      "Time:                        14:09:53   Log-Likelihood:                -225.33\n",
      "No. Observations:                  68   AIC:                             454.7\n",
      "Df Residuals:                      66   BIC:                             459.1\n",
      "Df Model:                           1                                         \n",
      "Covariance Type:            nonrobust                                         \n",
      "==============================================================================\n",
      "                 coef    std err          t      P>|t|      [0.025      0.975]\n",
      "------------------------------------------------------------------------------\n",
      "const         20.6077      7.017      2.937      0.005       6.598      34.617\n",
      "eu           -14.4355      8.636     -1.672      0.099     -31.677       2.806\n",
      "==============================================================================\n",
      "Omnibus:                       77.343   Durbin-Watson:                   0.827\n",
      "Prob(Omnibus):                  0.000   Jarque-Bera (JB):              802.546\n",
      "Skew:                           3.295   Prob(JB):                    5.36e-175\n",
      "Kurtosis:                      18.487   Cond. No.                         17.5\n",
      "==============================================================================\n",
      "\n",
      "Notes:\n",
      "[1] Standard Errors assume that the covariance matrix of the errors is correctly specified.\n"
     ]
    }
   ],
   "source": [
    "#Export Oriented Market Return and EU\n",
    "\n",
    "model = arch_model(return_e['Sum of Market(Percent)'], vol='EGARCH', p=1, q=1)\n",
    "results_egarch = model.fit()\n",
    "conditional_volatility = results_egarch.conditional_volatility\n",
    "\n",
    "X = quarterly_df.iloc[:][['eu']]  \n",
    "y = conditional_volatility.iloc[22:-2] \n",
    "X = sm.add_constant(X)  \n",
    "model = sm.OLS(y, X)\n",
    "results_regression = model.fit()\n",
    "\n",
    "print(results_regression.summary())"
   ]
  },
  {
   "cell_type": "code",
   "execution_count": 46,
   "metadata": {},
   "outputs": [
    {
     "name": "stdout",
     "output_type": "stream",
     "text": [
      "Iteration:      1,   Func. Count:      6,   Neg. LLF: 27525194.43175646\n",
      "Iteration:      2,   Func. Count:     13,   Neg. LLF: 485.01570802281094\n",
      "Iteration:      3,   Func. Count:     21,   Neg. LLF: 331.16456195440327\n",
      "Iteration:      4,   Func. Count:     27,   Neg. LLF: 340.88920102726456\n",
      "Iteration:      5,   Func. Count:     33,   Neg. LLF: 335.94193329214045\n",
      "Iteration:      6,   Func. Count:     39,   Neg. LLF: 314.7030446609096\n",
      "Iteration:      7,   Func. Count:     45,   Neg. LLF: 313.4384234705435\n",
      "Iteration:      8,   Func. Count:     50,   Neg. LLF: 313.4060814373626\n",
      "Iteration:      9,   Func. Count:     55,   Neg. LLF: 313.40204073455766\n",
      "Iteration:     10,   Func. Count:     60,   Neg. LLF: 313.4010037782655\n",
      "Iteration:     11,   Func. Count:     65,   Neg. LLF: 313.4009370063145\n",
      "Iteration:     12,   Func. Count:     70,   Neg. LLF: 313.40093292475746\n",
      "Iteration:     13,   Func. Count:     74,   Neg. LLF: 313.40093292471204\n",
      "Optimization terminated successfully    (Exit mode 0)\n",
      "            Current function value: 313.40093292475746\n",
      "            Iterations: 13\n",
      "            Function evaluations: 74\n",
      "            Gradient evaluations: 13\n",
      "                            OLS Regression Results                            \n",
      "==============================================================================\n",
      "Dep. Variable:               cond_vol   R-squared:                       0.000\n",
      "Model:                            OLS   Adj. R-squared:                 -0.015\n",
      "Method:                 Least Squares   F-statistic:                  0.002705\n",
      "Date:                Fri, 02 Feb 2024   Prob (F-statistic):              0.959\n",
      "Time:                        14:09:54   Log-Likelihood:                -226.74\n",
      "No. Observations:                  68   AIC:                             457.5\n",
      "Df Residuals:                      66   BIC:                             461.9\n",
      "Df Model:                           1                                         \n",
      "Covariance Type:            nonrobust                                         \n",
      "==============================================================================\n",
      "                 coef    std err          t      P>|t|      [0.025      0.975]\n",
      "------------------------------------------------------------------------------\n",
      "const          8.8707      1.883      4.710      0.000       5.111      12.631\n",
      "seu            0.4408      8.475      0.052      0.959     -16.481      17.362\n",
      "==============================================================================\n",
      "Omnibus:                       72.258   Durbin-Watson:                   0.817\n",
      "Prob(Omnibus):                  0.000   Jarque-Bera (JB):              628.562\n",
      "Skew:                           3.073   Prob(JB):                    3.23e-137\n",
      "Kurtosis:                      16.567   Cond. No.                         10.5\n",
      "==============================================================================\n",
      "\n",
      "Notes:\n",
      "[1] Standard Errors assume that the covariance matrix of the errors is correctly specified.\n"
     ]
    }
   ],
   "source": [
    "#Export Oriented Market Return and SEU\n",
    "\n",
    "model = arch_model(return_e['Sum of Market(Percent)'], vol='EGARCH', p=1, q=1)\n",
    "results_egarch = model.fit()\n",
    "conditional_volatility = results_egarch.conditional_volatility\n",
    "\n",
    "X = quarterly_df.iloc[:][['seu']]  \n",
    "y = conditional_volatility.iloc[22:-2] \n",
    "X = sm.add_constant(X)  \n",
    "model = sm.OLS(y, X)\n",
    "results_regression = model.fit()\n",
    "\n",
    "print(results_regression.summary())"
   ]
  },
  {
   "cell_type": "code",
   "execution_count": 47,
   "metadata": {},
   "outputs": [
    {
     "name": "stdout",
     "output_type": "stream",
     "text": [
      "Iteration:      1,   Func. Count:      6,   Neg. LLF: 27525194.43175646\n",
      "Iteration:      2,   Func. Count:     13,   Neg. LLF: 485.01570802281094\n",
      "Iteration:      3,   Func. Count:     21,   Neg. LLF: 331.16456195440327\n",
      "Iteration:      4,   Func. Count:     27,   Neg. LLF: 340.88920102726456\n",
      "Iteration:      5,   Func. Count:     33,   Neg. LLF: 335.94193329214045\n",
      "Iteration:      6,   Func. Count:     39,   Neg. LLF: 314.7030446609096\n",
      "Iteration:      7,   Func. Count:     45,   Neg. LLF: 313.4384234705435\n",
      "Iteration:      8,   Func. Count:     50,   Neg. LLF: 313.4060814373626\n",
      "Iteration:      9,   Func. Count:     55,   Neg. LLF: 313.40204073455766\n",
      "Iteration:     10,   Func. Count:     60,   Neg. LLF: 313.4010037782655\n",
      "Iteration:     11,   Func. Count:     65,   Neg. LLF: 313.4009370063145\n",
      "Iteration:     12,   Func. Count:     70,   Neg. LLF: 313.40093292475746\n",
      "Iteration:     13,   Func. Count:     74,   Neg. LLF: 313.40093292471204\n",
      "Optimization terminated successfully    (Exit mode 0)\n",
      "            Current function value: 313.40093292475746\n",
      "            Iterations: 13\n",
      "            Function evaluations: 74\n",
      "            Gradient evaluations: 13\n",
      "                            OLS Regression Results                            \n",
      "==============================================================================\n",
      "Dep. Variable:               cond_vol   R-squared:                       0.028\n",
      "Model:                            OLS   Adj. R-squared:                  0.016\n",
      "Method:                 Least Squares   F-statistic:                     2.229\n",
      "Date:                Fri, 02 Feb 2024   Prob (F-statistic):              0.140\n",
      "Time:                        14:09:55   Log-Likelihood:                -256.37\n",
      "No. Observations:                  79   AIC:                             516.7\n",
      "Df Residuals:                      77   BIC:                             521.5\n",
      "Df Model:                           1                                         \n",
      "Covariance Type:            nonrobust                                         \n",
      "==============================================================================\n",
      "                 coef    std err          t      P>|t|      [0.025      0.975]\n",
      "------------------------------------------------------------------------------\n",
      "const          6.9573      1.319      5.276      0.000       4.332       9.583\n",
      "s_t            5.3134      3.559      1.493      0.140      -1.773      12.400\n",
      "==============================================================================\n",
      "Omnibus:                       83.112   Durbin-Watson:                   0.799\n",
      "Prob(Omnibus):                  0.000   Jarque-Bera (JB):              913.334\n",
      "Skew:                           3.170   Prob(JB):                    4.70e-199\n",
      "Kurtosis:                      18.404   Cond. No.                         5.54\n",
      "==============================================================================\n",
      "\n",
      "Notes:\n",
      "[1] Standard Errors assume that the covariance matrix of the errors is correctly specified.\n"
     ]
    }
   ],
   "source": [
    "#Export Oriented Market Return and LT\n",
    "\n",
    "model = arch_model(return_e['Sum of Market(Percent)'], vol='EGARCH', p=1, q=1)\n",
    "results_egarch = model.fit()\n",
    "conditional_volatility = results_egarch.conditional_volatility\n",
    "\n",
    "X = pesaran_df[87:166][['s_t']]\n",
    "y = conditional_volatility.iloc[:-13] \n",
    "X = sm.add_constant(X)  \n",
    "model = sm.OLS(y, X)\n",
    "results_regression = model.fit()\n",
    "\n",
    "print(results_regression.summary())"
   ]
  },
  {
   "cell_type": "code",
   "execution_count": 46,
   "metadata": {},
   "outputs": [
    {
     "ename": "NameError",
     "evalue": "name 'results' is not defined",
     "output_type": "error",
     "traceback": [
      "\u001b[1;31m---------------------------------------------------------------------------\u001b[0m",
      "\u001b[1;31mNameError\u001b[0m                                 Traceback (most recent call last)",
      "Input \u001b[1;32mIn [46]\u001b[0m, in \u001b[0;36m<cell line: 3>\u001b[1;34m()\u001b[0m\n\u001b[0;32m      1\u001b[0m \u001b[38;5;28;01mimport\u001b[39;00m \u001b[38;5;21;01mmatplotlib\u001b[39;00m\u001b[38;5;21;01m.\u001b[39;00m\u001b[38;5;21;01mpyplot\u001b[39;00m \u001b[38;5;28;01mas\u001b[39;00m \u001b[38;5;21;01mplt\u001b[39;00m\n\u001b[0;32m      2\u001b[0m \u001b[38;5;66;03m# Plot the conditional volatility\u001b[39;00m\n\u001b[1;32m----> 3\u001b[0m fig \u001b[38;5;241m=\u001b[39m \u001b[43mresults\u001b[49m\u001b[38;5;241m.\u001b[39mplot(annualize\u001b[38;5;241m=\u001b[39m\u001b[38;5;124m'\u001b[39m\u001b[38;5;124mD\u001b[39m\u001b[38;5;124m'\u001b[39m)  \u001b[38;5;66;03m# 'D' indicates daily frequency, adjust as needed\u001b[39;00m\n\u001b[0;32m      4\u001b[0m plt\u001b[38;5;241m.\u001b[39mshow()\n",
      "\u001b[1;31mNameError\u001b[0m: name 'results' is not defined"
     ]
    }
   ],
   "source": [
    "import matplotlib.pyplot as plt\n",
    "# Plot the conditional volatility\n",
    "fig = results.plot(annualize='D')  # 'D' indicates daily frequency, adjust as needed\n",
    "plt.show()"
   ]
  },
  {
   "cell_type": "code",
   "execution_count": 49,
   "metadata": {},
   "outputs": [
    {
     "name": "stdout",
     "output_type": "stream",
     "text": [
      "Iteration:      1,   Func. Count:      6,   Neg. LLF: 28321732.56507575\n",
      "Iteration:      2,   Func. Count:     14,   Neg. LLF: 21994830.384475753\n",
      "Iteration:      3,   Func. Count:     23,   Neg. LLF: 511.09776717225475\n",
      "Iteration:      4,   Func. Count:     30,   Neg. LLF: 506.17926712500764\n",
      "Iteration:      5,   Func. Count:     35,   Neg. LLF: 504.5905061461893\n",
      "Iteration:      6,   Func. Count:     40,   Neg. LLF: 497.35620552877026\n",
      "Iteration:      7,   Func. Count:     45,   Neg. LLF: 493.9601178778995\n",
      "Iteration:      8,   Func. Count:     50,   Neg. LLF: 481.5852423218886\n",
      "Iteration:      9,   Func. Count:     55,   Neg. LLF: 505.99547069098975\n",
      "Iteration:     10,   Func. Count:     61,   Neg. LLF: 485.26929601852953\n",
      "Iteration:     11,   Func. Count:     69,   Neg. LLF: 449.88536635716684\n",
      "Iteration:     12,   Func. Count:     75,   Neg. LLF: 425.1933841564746\n",
      "Iteration:     13,   Func. Count:     80,   Neg. LLF: 423.7475129171407\n",
      "Iteration:     14,   Func. Count:     86,   Neg. LLF: 411.4814243345752\n",
      "Iteration:     15,   Func. Count:     91,   Neg. LLF: 428.04946863485867\n",
      "Iteration:     16,   Func. Count:     97,   Neg. LLF: 411.5898586755446\n",
      "Iteration:     17,   Func. Count:    103,   Neg. LLF: 407.06012739117205\n",
      "Iteration:     18,   Func. Count:    108,   Neg. LLF: 407.01888490514165\n",
      "Iteration:     19,   Func. Count:    113,   Neg. LLF: 407.0028758748843\n",
      "Iteration:     20,   Func. Count:    118,   Neg. LLF: 406.97237013483175\n",
      "Iteration:     21,   Func. Count:    123,   Neg. LLF: 406.96877687643786\n",
      "Iteration:     22,   Func. Count:    128,   Neg. LLF: 406.9682663243329\n",
      "Iteration:     23,   Func. Count:    133,   Neg. LLF: 406.96803953292425\n",
      "Iteration:     24,   Func. Count:    138,   Neg. LLF: 406.96758365636964\n",
      "Iteration:     25,   Func. Count:    143,   Neg. LLF: 406.96715288860315\n",
      "Iteration:     26,   Func. Count:    148,   Neg. LLF: 406.9669253845749\n",
      "Iteration:     27,   Func. Count:    153,   Neg. LLF: 406.9668866439257\n",
      "Iteration:     28,   Func. Count:    158,   Neg. LLF: 406.96688454006716\n",
      "Iteration:     29,   Func. Count:    162,   Neg. LLF: 406.96688453994307\n",
      "Optimization terminated successfully    (Exit mode 0)\n",
      "            Current function value: 406.96688454006716\n",
      "            Iterations: 29\n",
      "            Function evaluations: 162\n",
      "            Gradient evaluations: 29\n",
      "                       Constant Mean - EGARCH Model Results                       \n",
      "==================================================================================\n",
      "Dep. Variable:     Sum of Market(Percent)   R-squared:                       0.000\n",
      "Mean Model:                 Constant Mean   Adj. R-squared:                  0.000\n",
      "Vol Model:                         EGARCH   Log-Likelihood:               -406.967\n",
      "Distribution:                      Normal   AIC:                           821.934\n",
      "Method:                Maximum Likelihood   BIC:                           832.021\n",
      "                                            No. Observations:                   92\n",
      "Date:                    Fri, Feb 02 2024   Df Residuals:                       91\n",
      "Time:                            14:09:57   Df Model:                            1\n",
      "                               Mean Model                               \n",
      "========================================================================\n",
      "                 coef    std err          t      P>|t|  95.0% Conf. Int.\n",
      "------------------------------------------------------------------------\n",
      "mu            13.1533      0.317     41.470      0.000 [ 12.532, 13.775]\n",
      "                              Volatility Model                             \n",
      "===========================================================================\n",
      "                 coef    std err          t      P>|t|     95.0% Conf. Int.\n",
      "---------------------------------------------------------------------------\n",
      "omega          0.9240      0.493      1.873  6.110e-02 [-4.303e-02,  1.891]\n",
      "alpha[1]       1.7226      0.321      5.369  7.909e-08    [  1.094,  2.351]\n",
      "beta[1]        0.8395  5.557e-02     15.108  1.427e-51    [  0.731,  0.948]\n",
      "===========================================================================\n",
      "\n",
      "Covariance estimator: robust\n"
     ]
    }
   ],
   "source": [
    "#Sanctioned Market Return\n",
    "\n",
    "# Fit eGARCH model\n",
    "model = arch_model(return_s['Sum of Market(Percent)'], vol='EGARCH', p=1, q=1)\n",
    "results = model.fit()\n",
    "\n",
    "# Display model summary\n",
    "print(results.summary())"
   ]
  },
  {
   "cell_type": "code",
   "execution_count": 50,
   "metadata": {},
   "outputs": [
    {
     "name": "stdout",
     "output_type": "stream",
     "text": [
      "Iteration:      1,   Func. Count:      6,   Neg. LLF: 27525194.43175646\n",
      "Iteration:      2,   Func. Count:     13,   Neg. LLF: 485.01570802281094\n",
      "Iteration:      3,   Func. Count:     21,   Neg. LLF: 331.16456195440327\n",
      "Iteration:      4,   Func. Count:     27,   Neg. LLF: 340.88920102726456\n",
      "Iteration:      5,   Func. Count:     33,   Neg. LLF: 335.94193329214045\n",
      "Iteration:      6,   Func. Count:     39,   Neg. LLF: 314.7030446609096\n",
      "Iteration:      7,   Func. Count:     45,   Neg. LLF: 313.4384234705435\n",
      "Iteration:      8,   Func. Count:     50,   Neg. LLF: 313.4060814373626\n",
      "Iteration:      9,   Func. Count:     55,   Neg. LLF: 313.40204073455766\n",
      "Iteration:     10,   Func. Count:     60,   Neg. LLF: 313.4010037782655\n",
      "Iteration:     11,   Func. Count:     65,   Neg. LLF: 313.4009370063145\n",
      "Iteration:     12,   Func. Count:     70,   Neg. LLF: 313.40093292475746\n",
      "Iteration:     13,   Func. Count:     74,   Neg. LLF: 313.40093292471204\n",
      "Optimization terminated successfully    (Exit mode 0)\n",
      "            Current function value: 313.40093292475746\n",
      "            Iterations: 13\n",
      "            Function evaluations: 74\n",
      "            Gradient evaluations: 13\n",
      "                       Constant Mean - EGARCH Model Results                       \n",
      "==================================================================================\n",
      "Dep. Variable:     Sum of Market(Percent)   R-squared:                       0.000\n",
      "Mean Model:                 Constant Mean   Adj. R-squared:                  0.000\n",
      "Vol Model:                         EGARCH   Log-Likelihood:               -313.401\n",
      "Distribution:                      Normal   AIC:                           634.802\n",
      "Method:                Maximum Likelihood   BIC:                           644.889\n",
      "                                            No. Observations:                   92\n",
      "Date:                    Fri, Feb 02 2024   Df Residuals:                       91\n",
      "Time:                            14:09:58   Df Model:                            1\n",
      "                               Mean Model                               \n",
      "========================================================================\n",
      "                 coef    std err          t      P>|t|  95.0% Conf. Int.\n",
      "------------------------------------------------------------------------\n",
      "mu            11.2593      1.034     10.894  1.237e-27 [  9.234, 13.285]\n",
      "                            Volatility Model                            \n",
      "========================================================================\n",
      "                 coef    std err          t      P>|t|  95.0% Conf. Int.\n",
      "------------------------------------------------------------------------\n",
      "omega          0.9368      0.366      2.563  1.038e-02 [  0.220,  1.653]\n",
      "alpha[1]       1.1664      0.209      5.583  2.360e-08 [  0.757,  1.576]\n",
      "beta[1]        0.7532      0.106      7.087  1.373e-12 [  0.545,  0.961]\n",
      "========================================================================\n",
      "\n",
      "Covariance estimator: robust\n"
     ]
    }
   ],
   "source": [
    "#Export Oriented Market Return\n",
    "\n",
    "# Fit eGARCH model\n",
    "model = arch_model(return_e['Sum of Market(Percent)'], vol='EGARCH', p=1, q=1)\n",
    "results = model.fit()\n",
    "\n",
    "# Display model summary\n",
    "print(results.summary())"
   ]
  },
  {
   "cell_type": "markdown",
   "metadata": {},
   "source": [
    "# Forecasting Regressions"
   ]
  },
  {
   "cell_type": "code",
   "execution_count": 67,
   "metadata": {},
   "outputs": [
    {
     "name": "stdout",
     "output_type": "stream",
     "text": [
      "This model has R^2 score of 0.011304106143652515\n",
      " and Coefficent of [[0.24259846]]\n",
      " and Intercept of [-0.07685451]\n",
      " and MSE of 0.05220238468759586\n"
     ]
    }
   ],
   "source": [
    "eu_market_return_model = LinearRegression()\n",
    "\n",
    "x = quarterly_df.iloc[9:][['eu']].shift(1)\n",
    "x.dropna(inplace=True)\n",
    "y = return_m.iloc[:-1][['Sum of Market Return']]\n",
    "\n",
    "eu_market_return_model.fit(x, y)\n",
    "eu_market_return_model.score(x, y)\n",
    "#eu_market_return_model.coef_\n",
    "#eu_market_return_model.intercept_\n",
    "print(f'This model has R^2 score of {eu_market_return_model.score(x, y)}\\n and Coefficent of {eu_market_return_model.coef_}\\n and Intercept of {eu_market_return_model.intercept_}\\n and MSE of {mean_squared_error(y,eu_market_return_model.predict(x))}')"
   ]
  },
  {
   "cell_type": "code",
   "execution_count": 68,
   "metadata": {},
   "outputs": [
    {
     "name": "stdout",
     "output_type": "stream",
     "text": [
      "This model has R^2 score of 0.003534729943341808\n",
      " and Coefficent of [[0.1454832]]\n",
      " and Intercept of [0.08620513]\n",
      " and MSE of 0.052612601790459845\n"
     ]
    }
   ],
   "source": [
    "seu_market_return_model = LinearRegression()\n",
    "\n",
    "x = quarterly_df.iloc[9:][['seu']].shift(1)\n",
    "x.dropna(inplace=True)\n",
    "y = return_m.iloc[:-1][['Sum of Market Return']]\n",
    "\n",
    "seu_market_return_model.fit(x, y)\n",
    "seu_market_return_model.score(x, y)\n",
    "print(f'This model has R^2 score of {seu_market_return_model.score(x, y)}\\n and Coefficent of {seu_market_return_model.coef_}\\n and Intercept of {seu_market_return_model.intercept_}\\n and MSE of {mean_squared_error(y,seu_market_return_model.predict(x))}')"
   ]
  },
  {
   "cell_type": "code",
   "execution_count": 69,
   "metadata": {},
   "outputs": [
    {
     "name": "stdout",
     "output_type": "stream",
     "text": [
      "This model has R^2 score of 0.0972955439912192\n",
      " and Coefficent of [[0.34268876]]\n",
      " and Intercept of [0.01031869]\n",
      " and MSE of 0.05293588053688009\n"
     ]
    }
   ],
   "source": [
    "pesaran_market_return_model = LinearRegression()\n",
    "\n",
    "x = pesaran_df[118:166][['s_t']].shift(1)\n",
    "x.dropna(inplace=True)\n",
    "y = return_m.iloc[:47][['Sum of Market Return']]\n",
    "\n",
    "pesaran_market_return_model.fit(x, y)\n",
    "pesaran_market_return_model.score(x, y)\n",
    "print(f'This model has R^2 score of {pesaran_market_return_model.score(x, y)}\\n and Coefficent of {pesaran_market_return_model.coef_}\\n and Intercept of {pesaran_market_return_model.intercept_}\\n and MSE of {mean_squared_error(y,pesaran_market_return_model.predict(x))}')"
   ]
  },
  {
   "cell_type": "code",
   "execution_count": 55,
   "metadata": {},
   "outputs": [
    {
     "name": "stdout",
     "output_type": "stream",
     "text": [
      "This model has R^2 score of 0.46357240989701565\n",
      " and Coefficent of [[-5.1343412]]\n",
      " and Intercept of [4.85428461]\n",
      " and MSE of 0.2734570609656145\n"
     ]
    }
   ],
   "source": [
    "eu_sanctioned_market_return_model = LinearRegression()\n",
    "\n",
    "x = quarterly_df.iloc[:][['eu']].shift(1)\n",
    "x.dropna(inplace=True)\n",
    "y = return_s.iloc[23:-2][['Sum of Market(Percent)']]/100\n",
    "\n",
    "eu_sanctioned_market_return_model.fit(x, y)\n",
    "eu_sanctioned_market_return_model.score(x, y)\n",
    "print(f'This model has R^2 score of {eu_sanctioned_market_return_model.score(x, y)}\\n and Coefficent of {eu_sanctioned_market_return_model.coef_}\\n and Intercept of {eu_sanctioned_market_return_model.intercept_}\\n and MSE of {mean_squared_error(y,eu_sanctioned_market_return_model.predict(x))}')"
   ]
  },
  {
   "cell_type": "code",
   "execution_count": 56,
   "metadata": {},
   "outputs": [
    {
     "name": "stdout",
     "output_type": "stream",
     "text": [
      "This model has R^2 score of 0.09145570297301675\n",
      " and Coefficent of [[2.17635583]]\n",
      " and Intercept of [0.28674542]\n",
      " and MSE of 0.46315263757103103\n"
     ]
    }
   ],
   "source": [
    "seu_sanctioned_market_return_model = LinearRegression()\n",
    "\n",
    "x = quarterly_df.iloc[:][['seu']].shift(1)\n",
    "x.dropna(inplace=True)\n",
    "y = return_s.iloc[23:-2][['Sum of Market(Percent)']]/100\n",
    "\n",
    "seu_sanctioned_market_return_model.fit(x, y)\n",
    "seu_sanctioned_market_return_model.score(x, y)\n",
    "print(f'This model has R^2 score of {seu_sanctioned_market_return_model.score(x, y)}\\n and Coefficent of {seu_sanctioned_market_return_model.coef_}\\n and Intercept of {seu_sanctioned_market_return_model.intercept_}\\n and MSE of {mean_squared_error(y,seu_sanctioned_market_return_model.predict(x))}')"
   ]
  },
  {
   "cell_type": "code",
   "execution_count": 57,
   "metadata": {},
   "outputs": [
    {
     "name": "stdout",
     "output_type": "stream",
     "text": [
      "This model has R^2 score of 0.054848647747925305\n",
      " and Coefficent of [[-0.08852995]]\n",
      " and Intercept of [0.1280622]\n",
      " and MSE of 0.006561658528894163\n"
     ]
    }
   ],
   "source": [
    "pesaran_sanctioned_market_return_model = LinearRegression()\n",
    "\n",
    "x = pesaran_df[118:166][['s_t']].shift(1)\n",
    "x.dropna(inplace=True)\n",
    "y = return_s.iloc[1:48][['Sum of Market(Percent)']]/100\n",
    "\n",
    "pesaran_sanctioned_market_return_model.fit(x, y)\n",
    "pesaran_sanctioned_market_return_model.score(x, y)\n",
    "print(f'This model has R^2 score of {pesaran_sanctioned_market_return_model.score(x, y)}\\n and Coefficent of {pesaran_sanctioned_market_return_model.coef_}\\n and Intercept of {pesaran_sanctioned_market_return_model.intercept_}\\n and MSE of {mean_squared_error(y,pesaran_sanctioned_market_return_model.predict(x))}')"
   ]
  },
  {
   "cell_type": "code",
   "execution_count": 58,
   "metadata": {},
   "outputs": [
    {
     "name": "stdout",
     "output_type": "stream",
     "text": [
      "This model has R^2 score of 0.06154387834850217\n",
      " and Coefficent of [[-0.22234826]]\n",
      " and Intercept of [0.35308203]\n",
      " and MSE of 0.006758070899589125\n"
     ]
    }
   ],
   "source": [
    "eu_export_market_return_model = LinearRegression()\n",
    "\n",
    "x = quarterly_df.iloc[:][['eu']].shift(1)\n",
    "x.dropna(inplace=True)\n",
    "y = return_e.iloc[23:-2][['Sum of Market(Percent)']]/100\n",
    "\n",
    "eu_export_market_return_model.fit(x, y)\n",
    "eu_export_market_return_model.score(x, y)\n",
    "print(f'This model has R^2 score of {eu_export_market_return_model.score(x, y)}\\n and Coefficent of {eu_export_market_return_model.coef_}\\n and Intercept of {eu_export_market_return_model.intercept_}\\n and MSE of {mean_squared_error(y,eu_export_market_return_model.predict(x))}')"
   ]
  },
  {
   "cell_type": "code",
   "execution_count": 59,
   "metadata": {},
   "outputs": [
    {
     "name": "stdout",
     "output_type": "stream",
     "text": [
      "This model has R^2 score of 0.04469988292407445\n",
      " and Coefficent of [[-0.1808394]]\n",
      " and Intercept of [0.20988345]\n",
      " and MSE of 0.006879368968496507\n"
     ]
    }
   ],
   "source": [
    "seu_export_market_return_model = LinearRegression()\n",
    "\n",
    "x = quarterly_df.iloc[:][['seu']].shift(1)\n",
    "x.dropna(inplace=True)\n",
    "y = return_e.iloc[23:-2][['Sum of Market(Percent)']]/100\n",
    "\n",
    "seu_export_market_return_model.fit(x, y)\n",
    "seu_export_market_return_model.score(x, y)\n",
    "print(f'This model has R^2 score of {seu_export_market_return_model.score(x, y)}\\n and Coefficent of {seu_export_market_return_model.coef_}\\n and Intercept of {seu_export_market_return_model.intercept_}\\n and MSE of {mean_squared_error(y,seu_export_market_return_model.predict(x))}')"
   ]
  },
  {
   "cell_type": "code",
   "execution_count": 60,
   "metadata": {},
   "outputs": [
    {
     "name": "stdout",
     "output_type": "stream",
     "text": [
      "This model has R^2 score of 0.02914279283466137\n",
      " and Coefficent of [[0.07374579]]\n",
      " and Intercept of [0.10164199]\n",
      " and MSE of 0.008802305715444431\n"
     ]
    }
   ],
   "source": [
    "pesaran_export_market_return_model = LinearRegression()\n",
    "\n",
    "x = pesaran_df[118:166][['s_t']].shift(1)\n",
    "x.dropna(inplace=True)\n",
    "y = return_e.iloc[1:48][['Sum of Market(Percent)']]/100\n",
    "\n",
    "pesaran_export_market_return_model.fit(x, y)\n",
    "pesaran_export_market_return_model.score(x, y)\n",
    "print(f'This model has R^2 score of {pesaran_export_market_return_model.score(x, y)}\\n and Coefficent of {pesaran_export_market_return_model.coef_}\\n and Intercept of {pesaran_export_market_return_model.intercept_}\\n and MSE of {mean_squared_error(y,pesaran_export_market_return_model.predict(x))}')"
   ]
  },
  {
   "cell_type": "code",
   "execution_count": 76,
   "metadata": {},
   "outputs": [
    {
     "name": "stdout",
     "output_type": "stream",
     "text": [
      "Iteration:      1,   Func. Count:      6,   Neg. LLF: 2799450.0242033494\n",
      "Iteration:      2,   Func. Count:     14,   Neg. LLF: 621170.9621537804\n",
      "Iteration:      3,   Func. Count:     21,   Neg. LLF: 54.47367025911879\n",
      "Iteration:      4,   Func. Count:     29,   Neg. LLF: -13.945715037488682\n",
      "Iteration:      5,   Func. Count:     34,   Neg. LLF: -15.179039581867169\n",
      "Iteration:      6,   Func. Count:     39,   Neg. LLF: -15.198468086396831\n",
      "Iteration:      7,   Func. Count:     44,   Neg. LLF: -15.22103210212899\n",
      "Iteration:      8,   Func. Count:     49,   Neg. LLF: -15.235771903719817\n",
      "Iteration:      9,   Func. Count:     54,   Neg. LLF: -15.239610795630552\n",
      "Iteration:     10,   Func. Count:     59,   Neg. LLF: -15.240277722909576\n",
      "Iteration:     11,   Func. Count:     64,   Neg. LLF: -15.240288657542411\n",
      "Iteration:     12,   Func. Count:     68,   Neg. LLF: -15.240288618098628\n",
      "Optimization terminated successfully    (Exit mode 0)\n",
      "            Current function value: -15.240288657542411\n",
      "            Iterations: 12\n",
      "            Function evaluations: 68\n",
      "            Gradient evaluations: 12\n",
      "                            OLS Regression Results                            \n",
      "==============================================================================\n",
      "Dep. Variable:               cond_vol   R-squared:                       0.024\n",
      "Model:                            OLS   Adj. R-squared:                  0.006\n",
      "Method:                 Least Squares   F-statistic:                     1.340\n",
      "Date:                Sun, 04 Feb 2024   Prob (F-statistic):              0.252\n",
      "Time:                        16:42:03   Log-Likelihood:                 63.819\n",
      "No. Observations:                  57   AIC:                            -123.6\n",
      "Df Residuals:                      55   BIC:                            -119.6\n",
      "Df Model:                           1                                         \n",
      "Covariance Type:            nonrobust                                         \n",
      "==============================================================================\n",
      "                 coef    std err          t      P>|t|      [0.025      0.975]\n",
      "------------------------------------------------------------------------------\n",
      "const          0.1007      0.085      1.180      0.243      -0.070       0.272\n",
      "eu             0.1225      0.106      1.158      0.252      -0.090       0.334\n",
      "==============================================================================\n",
      "Omnibus:                       47.737   Durbin-Watson:                   2.019\n",
      "Prob(Omnibus):                  0.000   Jarque-Bera (JB):              165.802\n",
      "Skew:                           2.466   Prob(JB):                     9.92e-37\n",
      "Kurtosis:                       9.744   Cond. No.                         16.3\n",
      "==============================================================================\n",
      "\n",
      "Notes:\n",
      "[1] Standard Errors assume that the covariance matrix of the errors is correctly specified.\n"
     ]
    }
   ],
   "source": [
    "#Market Return and EU\n",
    "\n",
    "# Fit eGARCH model\n",
    "model = arch_model(return_m['Sum of Market Return'], vol='EGARCH', p=1, q=1)\n",
    "results_egarch = model.fit()\n",
    "# Display model summary\n",
    "#print(results.summary())\n",
    "#f.mean.dropna()\n",
    "conditional_volatility = results_egarch.conditional_volatility\n",
    "\n",
    "# Perform linear regression\n",
    "X = quarterly_df.iloc[10:][['eu']].shift(1)  # Independent variable\n",
    "X.dropna(inplace=True)\n",
    "y = conditional_volatility.iloc[1:-1] # Dependent variable\n",
    "X = sm.add_constant(X)  # Add a constant for the intercept term\n",
    "model = sm.OLS(y, X)\n",
    "results_regression = model.fit()\n",
    "\n",
    "# Print regression results\n",
    "print(results_regression.summary())"
   ]
  },
  {
   "cell_type": "code",
   "execution_count": 77,
   "metadata": {},
   "outputs": [
    {
     "name": "stdout",
     "output_type": "stream",
     "text": [
      "Iteration:      1,   Func. Count:      6,   Neg. LLF: 2799450.0242033494\n",
      "Iteration:      2,   Func. Count:     14,   Neg. LLF: 621170.9621537804\n",
      "Iteration:      3,   Func. Count:     21,   Neg. LLF: 54.47367025911879\n",
      "Iteration:      4,   Func. Count:     29,   Neg. LLF: -13.945715037488682\n",
      "Iteration:      5,   Func. Count:     34,   Neg. LLF: -15.179039581867169\n",
      "Iteration:      6,   Func. Count:     39,   Neg. LLF: -15.198468086396831\n",
      "Iteration:      7,   Func. Count:     44,   Neg. LLF: -15.22103210212899\n",
      "Iteration:      8,   Func. Count:     49,   Neg. LLF: -15.235771903719817\n",
      "Iteration:      9,   Func. Count:     54,   Neg. LLF: -15.239610795630552\n",
      "Iteration:     10,   Func. Count:     59,   Neg. LLF: -15.240277722909576\n",
      "Iteration:     11,   Func. Count:     64,   Neg. LLF: -15.240288657542411\n",
      "Iteration:     12,   Func. Count:     68,   Neg. LLF: -15.240288618098628\n",
      "Optimization terminated successfully    (Exit mode 0)\n",
      "            Current function value: -15.240288657542411\n",
      "            Iterations: 12\n",
      "            Function evaluations: 68\n",
      "            Gradient evaluations: 12\n",
      "                            OLS Regression Results                            \n",
      "==============================================================================\n",
      "Dep. Variable:               cond_vol   R-squared:                       0.040\n",
      "Model:                            OLS   Adj. R-squared:                  0.022\n",
      "Method:                 Least Squares   F-statistic:                     2.275\n",
      "Date:                Sun, 04 Feb 2024   Prob (F-statistic):              0.137\n",
      "Time:                        16:43:08   Log-Likelihood:                 64.288\n",
      "No. Observations:                  57   AIC:                            -124.6\n",
      "Df Residuals:                      55   BIC:                            -120.5\n",
      "Df Model:                           1                                         \n",
      "Covariance Type:            nonrobust                                         \n",
      "==============================================================================\n",
      "                 coef    std err          t      P>|t|      [0.025      0.975]\n",
      "------------------------------------------------------------------------------\n",
      "const          0.1608      0.027      5.900      0.000       0.106       0.215\n",
      "seu            0.1727      0.115      1.508      0.137      -0.057       0.402\n",
      "==============================================================================\n",
      "Omnibus:                       48.976   Durbin-Watson:                   2.083\n",
      "Prob(Omnibus):                  0.000   Jarque-Bera (JB):              175.376\n",
      "Skew:                           2.530   Prob(JB):                     8.27e-39\n",
      "Kurtosis:                       9.945   Cond. No.                         11.4\n",
      "==============================================================================\n",
      "\n",
      "Notes:\n",
      "[1] Standard Errors assume that the covariance matrix of the errors is correctly specified.\n"
     ]
    }
   ],
   "source": [
    "#Market Return and SEU\n",
    "\n",
    "model = arch_model(return_m['Sum of Market Return'], vol='EGARCH', p=1, q=1)\n",
    "results_egarch = model.fit()\n",
    "conditional_volatility = results_egarch.conditional_volatility\n",
    "\n",
    "X = quarterly_df.iloc[10:][['seu']].shift(1)\n",
    "X.dropna(inplace=True)\n",
    "y = conditional_volatility.iloc[1:-1] \n",
    "X = sm.add_constant(X)  \n",
    "model = sm.OLS(y, X)\n",
    "results_regression = model.fit()\n",
    "\n",
    "print(results_regression.summary())"
   ]
  },
  {
   "cell_type": "code",
   "execution_count": 78,
   "metadata": {},
   "outputs": [
    {
     "name": "stdout",
     "output_type": "stream",
     "text": [
      "Iteration:      1,   Func. Count:      6,   Neg. LLF: 2799450.0242033494\n",
      "Iteration:      2,   Func. Count:     14,   Neg. LLF: 621170.9621537804\n",
      "Iteration:      3,   Func. Count:     21,   Neg. LLF: 54.47367025911879\n",
      "Iteration:      4,   Func. Count:     29,   Neg. LLF: -13.945715037488682\n",
      "Iteration:      5,   Func. Count:     34,   Neg. LLF: -15.179039581867169\n",
      "Iteration:      6,   Func. Count:     39,   Neg. LLF: -15.198468086396831\n",
      "Iteration:      7,   Func. Count:     44,   Neg. LLF: -15.22103210212899\n",
      "Iteration:      8,   Func. Count:     49,   Neg. LLF: -15.235771903719817\n",
      "Iteration:      9,   Func. Count:     54,   Neg. LLF: -15.239610795630552\n",
      "Iteration:     10,   Func. Count:     59,   Neg. LLF: -15.240277722909576\n",
      "Iteration:     11,   Func. Count:     64,   Neg. LLF: -15.240288657542411\n",
      "Iteration:     12,   Func. Count:     68,   Neg. LLF: -15.240288618098628\n",
      "Optimization terminated successfully    (Exit mode 0)\n",
      "            Current function value: -15.240288657542411\n",
      "            Iterations: 12\n",
      "            Function evaluations: 68\n",
      "            Gradient evaluations: 12\n",
      "                            OLS Regression Results                            \n",
      "==============================================================================\n",
      "Dep. Variable:               cond_vol   R-squared:                       0.074\n",
      "Model:                            OLS   Adj. R-squared:                  0.053\n",
      "Method:                 Least Squares   F-statistic:                     3.504\n",
      "Date:                Sun, 04 Feb 2024   Prob (F-statistic):             0.0679\n",
      "Time:                        16:44:10   Log-Likelihood:                 48.914\n",
      "No. Observations:                  46   AIC:                            -93.83\n",
      "Df Residuals:                      44   BIC:                            -90.17\n",
      "Df Model:                           1                                         \n",
      "Covariance Type:            nonrobust                                         \n",
      "==============================================================================\n",
      "                 coef    std err          t      P>|t|      [0.025      0.975]\n",
      "------------------------------------------------------------------------------\n",
      "const          0.1605      0.025      6.524      0.000       0.111       0.210\n",
      "s_t            0.1065      0.057      1.872      0.068      -0.008       0.221\n",
      "==============================================================================\n",
      "Omnibus:                       34.808   Durbin-Watson:                   1.765\n",
      "Prob(Omnibus):                  0.000   Jarque-Bera (JB):               82.322\n",
      "Skew:                           2.131   Prob(JB):                     1.33e-18\n",
      "Kurtosis:                       7.978   Cond. No.                         5.17\n",
      "==============================================================================\n",
      "\n",
      "Notes:\n",
      "[1] Standard Errors assume that the covariance matrix of the errors is correctly specified.\n"
     ]
    }
   ],
   "source": [
    "#Market Return and LT\n",
    "\n",
    "model = arch_model(return_m['Sum of Market Return'], vol='EGARCH', p=1, q=1)\n",
    "results_egarch = model.fit()\n",
    "conditional_volatility = results_egarch.conditional_volatility\n",
    "\n",
    "X = pesaran_df[119:166][['s_t']].shift(1)\n",
    "X.dropna(inplace=True)\n",
    "y = conditional_volatility.iloc[1:47] \n",
    "X = sm.add_constant(X)  \n",
    "model = sm.OLS(y, X)\n",
    "results_regression = model.fit()\n",
    "\n",
    "print(results_regression.summary())"
   ]
  },
  {
   "cell_type": "code",
   "execution_count": null,
   "metadata": {},
   "outputs": [],
   "source": []
  }
 ],
 "metadata": {
  "kernelspec": {
   "display_name": "Python 3 (ipykernel)",
   "language": "python",
   "name": "python3"
  },
  "language_info": {
   "codemirror_mode": {
    "name": "ipython",
    "version": 3
   },
   "file_extension": ".py",
   "mimetype": "text/x-python",
   "name": "python",
   "nbconvert_exporter": "python",
   "pygments_lexer": "ipython3",
   "version": "3.10.5"
  }
 },
 "nbformat": 4,
 "nbformat_minor": 2
}
